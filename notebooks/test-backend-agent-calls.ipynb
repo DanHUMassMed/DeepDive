{
 "cells": [
  {
   "cell_type": "code",
   "execution_count": 7,
   "metadata": {},
   "outputs": [
    {
     "name": "stdout",
     "output_type": "stream",
     "text": [
      "Log file path: /Users/dan/Code/LLM/DeepDive/notebooks/backend.log\n"
     ]
    }
   ],
   "source": [
    "# System level imports\n",
    "import sys\n",
    "import os\n",
    "\n",
    "# ##### SET SYS PATH TO WHERE THE CODE IS. #####\n",
    "# Note: Putting our code first in the sys path will make sure it gets picked up first\n",
    "deep_dive_base_dir='/Users/dan/Code/LLM/DeepDive/backend'\n",
    "sys.path.insert(0, deep_dive_base_dir)\n",
    "\n",
    "os.environ[\"DEEP_DIVE_WORKSPACE\"] = \"/Users/dan/Code/LLM/DeepDive/workspace/notebooks\"\n",
    "#os.environ[\"DEEP_DIVE_WORKSPACE\"] = \"/Users/dan/Code/LLM/DeepDive/workspace/deep-dive\"\n",
    "\n",
    "os.environ[\"LOG_LEVEL\"] = \"TRACE\"\n",
    "\n",
    "from app.utils.logging_utilities import setup_logging, get_log_file_path\n",
    "logger = setup_logging()\n",
    "log_file_path = get_log_file_path(logger)\n",
    "print(f\"Log file path: {log_file_path}\")"
   ]
  },
  {
   "cell_type": "code",
   "execution_count": 8,
   "metadata": {},
   "outputs": [],
   "source": [
    "user_agent = (\"Mozilla/5.0 (Windows NT 10.0; Win64; x64) AppleWebKit/537.36 \"\n",
    "              \"(KHTML, like Gecko) Chrome/119.0.0.0 Safari/537.36 Edg/119.0.0.0\")\n",
    "os.environ['USER_AGENT'] = user_agent"
   ]
  },
  {
   "cell_type": "code",
   "execution_count": 3,
   "metadata": {},
   "outputs": [
    {
     "name": "stdout",
     "output_type": "stream",
     "text": [
      "2025-03-12 14:36:08 app INFO: Using provided workspace at: /Users/dan/Code/LLM/DeepDive/workspace/notebooks\n",
      "2025-03-12 14:36:08 app INFO: Using provided workspace at: /Users/dan/Code/LLM/DeepDive/workspace/notebooks\n"
     ]
    }
   ],
   "source": [
    "from app.agents.search_agent import SearchAgent\n",
    "search_agent = SearchAgent()"
   ]
  },
  {
   "cell_type": "code",
   "execution_count": 4,
   "metadata": {},
   "outputs": [
    {
     "name": "stdout",
     "output_type": "stream",
     "text": [
      "2025-03-12 14:36:31 root DEBUG: PROMPT get_sub_queries response = [\"Bernie Sanders political career highlights 2025\", \"Bernie Sanders recent speeches and statements March 2025\", \"Public opinion on Bernie Sanders policies as of March 12, 2025\"]\n",
      "2025-03-12 14:36:31 app DEBUG: _send_output content=\"_OK Let's try these queries: Bernie Sanders political career highlights 2025,Bernie Sanders recent speeches and statements March 2025,Public opinion on Bernie Sanders policies as of March 12, 2025,Who is Bernie Sanders_<br>\"\n",
      "2025-03-12 14:36:32 app DEBUG: scrape_urls extract_data_from_link link='https://apnews.com/article/bernie-sanders-democrats-trump-c213d5ae42737c956d46f6f7f17e5abd'\n",
      "2025-03-12 14:36:32 app DEBUG: scrape_urls extract_data_from_link link='https://judicial.mc.edu/15-bernie-sanders-moments-essential-political-highlights'\n",
      "2025-03-12 14:36:32 app DEBUG: scrape_urls extract_data_from_link link='https://www.twincities.com/2025/03/10/democrats-bernie-sanders/'\n",
      "2025-03-12 14:36:32 app DEBUG: scrape_urls extract_data_from_link link='https://www.trendswings.com/2025/01/30/bernie-sanders-political-career-policies-and-legacy/'\n",
      "2025-03-12 14:36:32 app DEBUG: scrape_urls extract_data_from_link link='https://abcnews.go.com/Politics/wireStory/drawing-huge-crowds-bernie-sanders-steps-leadership-anti-119623034'\n",
      "2025-03-12 14:36:37 app DEBUG: scrape_urls extract_data_from_link link='https://thehill.com/homenews/senate/5190322-berniesanders-elonmusk-threats/'\n",
      "2025-03-12 14:36:37 app DEBUG: scrape_urls extract_data_from_link link='https://www.sanders.senate.gov/media/press-releases/'\n",
      "2025-03-12 14:36:37 app DEBUG: scrape_urls extract_data_from_link link='https://www.sanders.senate.gov/press-releases/prepared-remarks-sanders-delivers-livestreamed-response-to-president-trumps-congressional-address/'\n",
      "2025-03-12 14:36:37 app DEBUG: scrape_urls extract_data_from_link link='https://www.newsweek.com/videos-bernie-sanders-large-midwest-rallies-take-off-social-media-2041843'\n",
      "2025-03-12 14:36:37 app DEBUG: scrape_urls extract_data_from_link link='https://www.usatoday.com/story/news/2025/03/05/senator-bernie-sanders-president-donald-trump-joint-address/81570095007/'\n",
      "2025-03-12 14:36:40 app DEBUG: scrape_urls extract_data_from_link link='https://www.politico.com/news/2025/02/12/bernie-sanders-iowa-midterms-trump-musk-00203974'\n",
      "2025-03-12 14:36:40 app DEBUG: scrape_urls extract_data_from_link link='https://www.newsweek.com/bernie-sanders-predicts-whats-next-social-security-under-trump-2042602'\n",
      "2025-03-12 14:36:40 app DEBUG: scrape_urls extract_data_from_link link='https://www.clickondetroit.com/news/politics/2025/03/10/drawing-huge-crowds-bernie-sanders-steps-into-leadership-of-the-anti-trump-resistance/'\n",
      "2025-03-12 14:36:42 app DEBUG: scrape_urls extract_data_from_link link='https://www.pbs.org/newshour/politics/drawing-huge-crowds-bernie-sanders-emerges-as-the-leader-of-the-anti-trump-resistance'\n",
      "2025-03-12 14:36:42 app DEBUG: scrape_urls extract_data_from_link link='https://www.msnbc.com/opinion/msnbc-opinion/bernie-sanders-anti-oligarchy-tour-democrats-trump-rcna195841'\n",
      "2025-03-12 14:37:20 app DEBUG: _send_output content='# Who Is Bernie Sanders?\\n\\n'\n",
      "2025-03-12 14:37:30 app DEBUG: _send_output content='Bernie Sanders is one of the most prominent and influential figures in contemporary American politics. As a U.S. Senator from Vermont, he has become known for his progressive stances on economic inequality, healthcare reform, climate change, and social justice. His political career, particularly his 2016 and 2020 presidential campaigns, has ignited significant debate and energized millions of Americans who are seeking major reforms to the status quo ([url website](https://www.trendswings.com/2025/01/30/bernie-sanders-political-career-policies-and-legacy/)).\\n\\n'\n",
      "2025-03-12 14:37:31 app DEBUG: _send_output content='## Legislative Career and Key Policies\\n\\n'\n",
      "2025-03-12 14:37:37 app DEBUG: _send_output content=\"Bernie Sanders' political career took a significant step forward when he was elected to the U.S. House of Representatives in 1990, where he served for 16 years before winning a seat in the U.S. Senate in 2006. Throughout his career, Sanders has remained steadfast in advocating for policies that promote social justice and economic equality.\\n\\n\"\n",
      "2025-03-12 14:37:37 app DEBUG: _send_output content='### Medicare for All\\n\\n'\n",
      "2025-03-12 14:37:47 app DEBUG: _send_output content=\"One of Sanders' signature proposals is Medicare for All, a universal healthcare program designed to guarantee healthcare access to every American, regardless of their income or employment status. He argues that the U.S. healthcare system, which is heavily privatized, is inefficient and leaves millions without affordable care. Medicare for All would expand the current Medicare program to cover all Americans, eliminating private insurance companies' role in healthcare ([url website](https://www.trendswings.com/2025/01/30/bernie-sanders-political-career-policies-and-legacy/)).\\n\\n\"\n",
      "2025-03-12 14:37:47 app DEBUG: _send_output content='### Green New Deal\\n\\n'\n",
      "2025-03-12 14:37:54 app DEBUG: _send_output content='Sanders has also been a vocal advocate for the Green New Deal, which aims to address climate change through significant investments in renewable energy and infrastructure. This policy seeks to create millions of jobs while transitioning the U.S. economy away from fossil fuels ([url website](https://www.trendswings.com/2025/01/30/bernie-sanders-political-career-policies-and-legacy/)).\\n\\n'\n",
      "2025-03-12 14:37:55 app DEBUG: _send_output content='## Impact on American Politics\\n\\n'\n",
      "2025-03-12 14:38:01 app DEBUG: _send_output content=\"Sanders' political career has left an indelible mark on American politics. His unwavering commitment to progressive ideals, his focus on economic and social justice, and his willingness to challenge the status quo have inspired a new generation of activists and politicians ([url website](https://judicial.mc.edu/15-bernie-sanders-moments-essential-political-highlights)).\\n\\n\"\n",
      "2025-03-12 14:38:01 app DEBUG: _send_output content='### Grassroots Organizing\\n\\n'\n",
      "2025-03-12 14:38:07 app DEBUG: _send_output content=\"Sanders' campaigns have demonstrated the power of grassroots organizing and the importance of engaging with young voters. His ability to mobilize and inspire a dedicated base of supporters has set a new standard for political engagement ([url website](https://judicial.mc.edu/15-bernie-sanders-moments-essential-political-highlights)).\\n\\n\"\n",
      "2025-03-12 14:38:07 app DEBUG: _send_output content='## Recent Activities\\n\\n'\n",
      "2025-03-12 14:38:14 app DEBUG: _send_output content=\"In recent months, Sanders has emerged as the leader of the anti-Trump resistance. He has been drawing huge crowds across swing districts in Wisconsin and Michigan, where he is rallying support against President Trump's policies ([url website](https://www.pbs.org/newshour/politics/drawing-huge-crowds-bernie-sanders-emerges-as-the-leader-of-the-anti-trump-resistance)).\\n\\n\"\n",
      "2025-03-12 14:38:15 app DEBUG: _send_output content='### Criticism of the Democratic Party\\n\\n'\n",
      "2025-03-12 14:38:23 app DEBUG: _send_output content='Sanders has been critical of the Democratic Party, particularly in the aftermath of Kamala Harris\\' loss last fall. He declared that Trump\\'s victory was possible only because Democrats had \"abandoned\" the working class ([url website](https://www.clickondetroit.com/news/politics/2025/03/10/drawing-huge-crowds-bernie-sanders-steps-into-leadership-of-the-anti-trump-resistance)).\\n\\n'\n",
      "2025-03-12 14:38:23 app DEBUG: _send_output content='## Conclusion\\n\\n'\n",
      "2025-03-12 14:38:29 app DEBUG: _send_output content=\"Bernie Sanders' political career and policies have significantly influenced the broader political discourse in the United States. His advocacy for issues like universal healthcare, wealth inequality, and climate change has shaped the agendas of other political figures. Despite facing criticism from some Democrats who view his proposals as too radical, Sanders continues to mobilize support through grassroots organizing and engagement with young voters.\\n\\n\"\n",
      "2025-03-12 14:38:29 app DEBUG: _send_output content='## References\\n\\n'\n",
      "2025-03-12 14:38:33 app DEBUG: _send_output content='- [url website](https://www.trendswings.com/2025/01/30/bernie-sanders-political-career-policies-and-legacy/)\\n'\n",
      "2025-03-12 14:38:35 app DEBUG: _send_output content='- [url website](https://judicial.mc.edu/15-bernie-sanders-moments-essential-political-highlights)\\n'\n",
      "2025-03-12 14:38:39 app DEBUG: _send_output content='- [url website](https://www.pbs.org/newshour/politics/drawing-huge-crowds-bernie-sanders-emerges-as-the-leader-of-the-anti-trump-resistance)\\n'\n",
      "2025-03-12 14:38:43 app DEBUG: _send_output content='- [url website](https://www.clickondetroit.com/news/politics/2025/03/10/drawing-huge-crowds-bernie-sanders-steps-into-leadership-of-the-anti-trump-resistance)'\n",
      "2025-03-12 14:38:43 root DEBUG: PROMPT write_report response = # Who Is Bernie Sanders?\n",
      "\n",
      "Bernie Sanders is one of the most prominent and influential figures in contemporary American politics. As a U.S. Senator from Vermont, he has become known for his progressive stances on economic inequality, healthcare reform, climate change, and social justice. His political career, particularly his 2016 and 2020 presidential campaigns, has ignited significant debate and energized millions of Americans who are seeking major reforms to the status quo ([url website](https://www.trendswings.com/2025/01/30/bernie-sanders-political-career-policies-and-legacy/)).\n",
      "\n",
      "## Legislative Career and Key Policies\n",
      "\n",
      "Bernie Sanders' political career took a significant step forward when he was elected to the U.S. House of Representatives in 1990, where he served for 16 years before winning a seat in the U.S. Senate in 2006. Throughout his career, Sanders has remained steadfast in advocating for policies that promote social justice and economic equality.\n",
      "\n",
      "### Medicare for All\n",
      "\n",
      "One of Sanders' signature proposals is Medicare for All, a universal healthcare program designed to guarantee healthcare access to every American, regardless of their income or employment status. He argues that the U.S. healthcare system, which is heavily privatized, is inefficient and leaves millions without affordable care. Medicare for All would expand the current Medicare program to cover all Americans, eliminating private insurance companies' role in healthcare ([url website](https://www.trendswings.com/2025/01/30/bernie-sanders-political-career-policies-and-legacy/)).\n",
      "\n",
      "### Green New Deal\n",
      "\n",
      "Sanders has also been a vocal advocate for the Green New Deal, which aims to address climate change through significant investments in renewable energy and infrastructure. This policy seeks to create millions of jobs while transitioning the U.S. economy away from fossil fuels ([url website](https://www.trendswings.com/2025/01/30/bernie-sanders-political-career-policies-and-legacy/)).\n",
      "\n",
      "## Impact on American Politics\n",
      "\n",
      "Sanders' political career has left an indelible mark on American politics. His unwavering commitment to progressive ideals, his focus on economic and social justice, and his willingness to challenge the status quo have inspired a new generation of activists and politicians ([url website](https://judicial.mc.edu/15-bernie-sanders-moments-essential-political-highlights)).\n",
      "\n",
      "### Grassroots Organizing\n",
      "\n",
      "Sanders' campaigns have demonstrated the power of grassroots organizing and the importance of engaging with young voters. His ability to mobilize and inspire a dedicated base of supporters has set a new standard for political engagement ([url website](https://judicial.mc.edu/15-bernie-sanders-moments-essential-political-highlights)).\n",
      "\n",
      "## Recent Activities\n",
      "\n",
      "In recent months, Sanders has emerged as the leader of the anti-Trump resistance. He has been drawing huge crowds across swing districts in Wisconsin and Michigan, where he is rallying support against President Trump's policies ([url website](https://www.pbs.org/newshour/politics/drawing-huge-crowds-bernie-sanders-emerges-as-the-leader-of-the-anti-trump-resistance)).\n",
      "\n",
      "### Criticism of the Democratic Party\n",
      "\n",
      "Sanders has been critical of the Democratic Party, particularly in the aftermath of Kamala Harris' loss last fall. He declared that Trump's victory was possible only because Democrats had \"abandoned\" the working class ([url website](https://www.clickondetroit.com/news/politics/2025/03/10/drawing-huge-crowds-bernie-sanders-steps-into-leadership-of-the-anti-trump-resistance)).\n",
      "\n",
      "## Conclusion\n",
      "\n",
      "Bernie Sanders' political career and policies have significantly influenced the broader political discourse in the United States. His advocacy for issues like universal healthcare, wealth inequality, and climate change has shaped the agendas of other political figures. Despite facing criticism from some Democrats who view his proposals as too radical, Sanders continues to mobilize support through grassroots organizing and engagement with young voters.\n",
      "\n",
      "## References\n",
      "\n",
      "- [url website](https://www.trendswings.com/2025/01/30/bernie-sanders-political-career-policies-and-legacy/)\n",
      "- [url website](https://judicial.mc.edu/15-bernie-sanders-moments-essential-political-highlights)\n",
      "- [url website](https://www.pbs.org/newshour/politics/drawing-huge-crowds-bernie-sanders-emerges-as-the-leader-of-the-anti-trump-resistance)\n",
      "- [url website](https://www.clickondetroit.com/news/politics/2025/03/10/drawing-huge-crowds-bernie-sanders-steps-into-leadership-of-the-anti-trump-resistance)\n"
     ]
    }
   ],
   "source": [
    "query = \"Who is Bernie Sanders\"\n",
    "internet_search_report = await search_agent.generate_internet_search_report(query)\n"
   ]
  },
  {
   "cell_type": "code",
   "execution_count": null,
   "metadata": {},
   "outputs": [],
   "source": [
    "print(internet_search_report)"
   ]
  },
  {
   "cell_type": "code",
   "execution_count": 3,
   "metadata": {},
   "outputs": [
    {
     "name": "stdout",
     "output_type": "stream",
     "text": [
      "2025-03-12 16:14:03 app INFO: Using provided workspace at: /Users/dan/Code/LLM/DeepDive/workspace/notebooks\n",
      "2025-03-12 16:14:03 app INFO: Using provided workspace at: /Users/dan/Code/LLM/DeepDive/workspace/notebooks\n"
     ]
    }
   ],
   "source": [
    "from app.agents.search_agent import SearchAgent\n",
    "search_agent = SearchAgent(chat_id=\"123456789\")\n",
    "    "
   ]
  },
  {
   "cell_type": "code",
   "execution_count": 4,
   "metadata": {},
   "outputs": [
    {
     "name": "stdout",
     "output_type": "stream",
     "text": [
      "2025-03-12 16:16:20 app INFO: Using provided workspace at: /Users/dan/Code/LLM/DeepDive/workspace/notebooks\n"
     ]
    },
    {
     "ename": "AttributeError",
     "evalue": "'SqliteSaver' object has no attribute 'add_message'",
     "output_type": "error",
     "traceback": [
      "\u001b[0;31m---------------------------------------------------------------------------\u001b[0m",
      "\u001b[0;31mAttributeError\u001b[0m                            Traceback (most recent call last)",
      "Cell \u001b[0;32mIn[4], line 3\u001b[0m\n\u001b[1;32m      1\u001b[0m human\u001b[38;5;241m=\u001b[39m\u001b[38;5;124m\"\u001b[39m\u001b[38;5;124mwho is bernie\u001b[39m\u001b[38;5;124m\"\u001b[39m\n\u001b[1;32m      2\u001b[0m ai_response\u001b[38;5;241m=\u001b[39m\u001b[38;5;124m\"\u001b[39m\u001b[38;5;124mBernie is the man\u001b[39m\u001b[38;5;124m\"\u001b[39m\n\u001b[0;32m----> 3\u001b[0m search_agent\u001b[38;5;241m.\u001b[39mcheckpoint_chat_interactions(human, ai_response)\n",
      "File \u001b[0;32m~/Code/LLM/DeepDive/backend/app/agents/search_agent.py:40\u001b[0m, in \u001b[0;36mSearchAgent.checkpoint_chat_interactions\u001b[0;34m(self, prompt, ai_response)\u001b[0m\n\u001b[1;32m     38\u001b[0m \u001b[38;5;28;01mwith\u001b[39;00m SqliteSaver\u001b[38;5;241m.\u001b[39mfrom_conn_string(db_path) \u001b[38;5;28;01mas\u001b[39;00m checkpointer:            \n\u001b[1;32m     39\u001b[0m     config \u001b[38;5;241m=\u001b[39m {\u001b[38;5;124m\"\u001b[39m\u001b[38;5;124mconfigurable\u001b[39m\u001b[38;5;124m\"\u001b[39m: {\u001b[38;5;124m\"\u001b[39m\u001b[38;5;124mthread_id\u001b[39m\u001b[38;5;124m\"\u001b[39m: \u001b[38;5;28mself\u001b[39m\u001b[38;5;241m.\u001b[39mchat_id}}\n\u001b[0;32m---> 40\u001b[0m     checkpointer\u001b[38;5;241m.\u001b[39madd_message(human_message, config\u001b[38;5;241m=\u001b[39mconfig)\n\u001b[1;32m     41\u001b[0m     checkpointer\u001b[38;5;241m.\u001b[39madd_message(ai_message, config\u001b[38;5;241m=\u001b[39mconfig)\n",
      "\u001b[0;31mAttributeError\u001b[0m: 'SqliteSaver' object has no attribute 'add_message'"
     ]
    }
   ],
   "source": [
    "human=\"who is bernie\"\n",
    "ai_response=\"Bernie is the man\"\n",
    "search_agent.checkpoint_chat_interactions(human, ai_response)\n"
   ]
  },
  {
   "cell_type": "code",
   "execution_count": 9,
   "metadata": {},
   "outputs": [],
   "source": [
    "from langchain_core.messages import AIMessage, HumanMessage\n",
    "from langgraph.checkpoint.sqlite import SqliteSaver\n",
    "from datetime import datetime\n",
    "import uuid\n",
    "\n",
    "db_path = \"/Users/dan/Code/LLM/DeepDive/notebooks/checkpoints.db\"\n",
    "\n",
    "human=\"who is bernie\"\n",
    "ai_response=\"Bernie is the man\"\n",
    "chat_id=\"123456789\"\n",
    "\n",
    "human_message = HumanMessage(content=human)\n",
    "ai_message = AIMessage(content=ai_response)\n",
    "\n",
    "checkpoint = {\n",
    "    \"v\":1,\n",
    "    \"ts\": datetime.now().isoformat(),  # timestamp\n",
    "    \"id\": str(uuid.uuid4()),  # unique id\n",
    "    \"channel_values\": {\n",
    "            \"messages\": [\n",
    "                HumanMessage(content=human_message.content),\n",
    "                AIMessage(content=ai_message.content),\n",
    "            ],\n",
    "        }    \n",
    "}\n",
    "\n",
    "with SqliteSaver.from_conn_string(db_path) as checkpointer:\n",
    "    config = {\"configurable\": {\"thread_id\": chat_id, \"checkpoint_ns\": \"\"}}\n",
    "    saved_config = checkpointer.put(config, checkpoint, {}, {})"
   ]
  },
  {
   "cell_type": "code",
   "execution_count": null,
   "metadata": {},
   "outputs": [],
   "source": []
  }
 ],
 "metadata": {
  "kernelspec": {
   "display_name": "deep-dive",
   "language": "python",
   "name": "python3"
  },
  "language_info": {
   "codemirror_mode": {
    "name": "ipython",
    "version": 3
   },
   "file_extension": ".py",
   "mimetype": "text/x-python",
   "name": "python",
   "nbconvert_exporter": "python",
   "pygments_lexer": "ipython3",
   "version": "3.12.9"
  }
 },
 "nbformat": 4,
 "nbformat_minor": 2
}
