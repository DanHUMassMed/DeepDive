{
 "cells": [
  {
   "cell_type": "code",
   "execution_count": 1,
   "metadata": {},
   "outputs": [],
   "source": [
    "# System level imports\n",
    "import sys\n",
    "import os\n",
    "\n",
    "# ##### SET SYS PATH TO WHERE THE CODE IS. #####\n",
    "# Note: Putting our code first in the sys path will make sure it gets picked up first\n",
    "deep_dive_base_dir='/Users/dan/Code/LLM/DeepDive/backend'\n",
    "sys.path.insert(0, deep_dive_base_dir)"
   ]
  },
  {
   "cell_type": "code",
   "execution_count": 5,
   "metadata": {},
   "outputs": [],
   "source": [
    "from app.session_manager import SessionManager\n",
    "from app.project_state_manager import ProjectStateManager, ProjectStateItem\n",
    "from app.chat_history_manager import ChatHistoryManager, ChatHistoryItem\n"
   ]
  },
  {
   "cell_type": "code",
   "execution_count": 7,
   "metadata": {},
   "outputs": [
    {
     "name": "stdout",
     "output_type": "stream",
     "text": [
      "2025-02-24 10:13:31 app DEBUG: _get_parent_directory /Users/dan/Code/LLM/DeepDive/backend/app/base_manager.py\n"
     ]
    },
    {
     "data": {
      "text/plain": [
       "ProjectStateItem(project_name='my-second-project', project_llm_name=None, project_system_prompt=None)"
      ]
     },
     "execution_count": 7,
     "metadata": {},
     "output_type": "execute_result"
    }
   ],
   "source": [
    "\n",
    "projectStateManager = ProjectStateManager.singleton()\n",
    "projectStateItem1 = ProjectStateItem(project_name='deep-dive',project_llm_name='my_llm')\n",
    "projectStateItem2 = ProjectStateItem(project_name='my-first-project',project_llm_name='my_llm',project_system_prompt=\"Do only good\")\n",
    "projectStateItem3 = ProjectStateItem(project_name='my-second-project')\n",
    "\n",
    "projectStateManager.create_project_state(projectStateItem1)\n",
    "projectStateManager.create_project_state(projectStateItem2)\n",
    "projectStateManager.create_project_state(projectStateItem3)"
   ]
  },
  {
   "cell_type": "code",
   "execution_count": 9,
   "metadata": {},
   "outputs": [
    {
     "name": "stdout",
     "output_type": "stream",
     "text": [
      "2025-02-24 10:16:30 app DEBUG: _get_parent_directory /Users/dan/Code/LLM/DeepDive/backend/app/base_manager.py\n"
     ]
    }
   ],
   "source": [
    "projectStateManager = ProjectStateManager.singleton()\n",
    "projectStateItem4 = ProjectStateItem(project_name='deep-dive',project_llm_name='my_better_llm')\n",
    "projectStateManager.update_project_state(projectStateItem4)"
   ]
  },
  {
   "cell_type": "code",
   "execution_count": null,
   "metadata": {},
   "outputs": [],
   "source": [
    "chatHistoryManager = ChatHistoryManager.singleton()\n",
    "chatHistoryManager.get_chat_history('deep-dive')"
   ]
  },
  {
   "cell_type": "code",
   "execution_count": null,
   "metadata": {},
   "outputs": [],
   "source": [
    "chatHistoryManager.delete_chat_history('deep-dive')"
   ]
  },
  {
   "cell_type": "code",
   "execution_count": null,
   "metadata": {},
   "outputs": [],
   "source": [
    "chatHistoryItem = ChatHistoryItem(project_id='deep-dive')\n",
    "chatHistoryManager.create_chat_history_item(chatHistoryItem)"
   ]
  },
  {
   "cell_type": "code",
   "execution_count": null,
   "metadata": {},
   "outputs": [],
   "source": [
    "chatHistoryItem = ChatHistoryItem(project_id='deep-dive',chat_id='4edea6c2-a59a-43e2-98cb-8a33beba89b6',chat_title='Not Active')\n",
    "chatHistoryManager.update_chat_history_item_title(chatHistoryItem)\n"
   ]
  },
  {
   "cell_type": "code",
   "execution_count": null,
   "metadata": {},
   "outputs": [],
   "source": [
    "chatHistoryItem = ChatHistoryItem(project_id='deep-dive',chat_id='5a299fcd-2f70-4132-b83d-bec73950d7cf')\n",
    "chatHistoryManager.delete_chat_history_item(chatHistoryItem)\n"
   ]
  },
  {
   "cell_type": "code",
   "execution_count": null,
   "metadata": {},
   "outputs": [],
   "source": [
    "chatHistoryManager.get_active_chat('deep-dive')"
   ]
  },
  {
   "cell_type": "code",
   "execution_count": null,
   "metadata": {},
   "outputs": [],
   "source": [
    "chatHistoryManager.set_active_chat('deep-dive','4edea6c2-a59a-43e2-98cb-8a33beba89b6')"
   ]
  },
  {
   "cell_type": "code",
   "execution_count": null,
   "metadata": {},
   "outputs": [],
   "source": []
  }
 ],
 "metadata": {
  "kernelspec": {
   "display_name": "deep-dive",
   "language": "python",
   "name": "python3"
  },
  "language_info": {
   "codemirror_mode": {
    "name": "ipython",
    "version": 3
   },
   "file_extension": ".py",
   "mimetype": "text/x-python",
   "name": "python",
   "nbconvert_exporter": "python",
   "pygments_lexer": "ipython3",
   "version": "3.12.9"
  }
 },
 "nbformat": 4,
 "nbformat_minor": 2
}
