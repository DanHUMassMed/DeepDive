{
 "cells": [
  {
   "cell_type": "code",
   "execution_count": 1,
   "metadata": {},
   "outputs": [],
   "source": [
    "# System level imports\n",
    "import sys\n",
    "import os\n",
    "\n",
    "# ##### SET SYS PATH TO WHERE THE CODE IS. #####\n",
    "# Note: Putting our code first in the sys path will make sure it gets picked up first\n",
    "deep_dive_base_dir='/Users/dan/Code/LLM/DeepDive/backend'\n",
    "sys.path.insert(0, deep_dive_base_dir)"
   ]
  },
  {
   "cell_type": "code",
   "execution_count": 2,
   "metadata": {},
   "outputs": [
    {
     "name": "stdout",
     "output_type": "stream",
     "text": [
      "logger app.session_manager\n"
     ]
    }
   ],
   "source": [
    "from app.session_manager import SessionManager\n",
    "from app.project_state_manager import ProjectStateManager\n",
    "from app.chat_history_manager import ChatHistoryManager, ChatHistoryItem\n"
   ]
  },
  {
   "cell_type": "code",
   "execution_count": null,
   "metadata": {},
   "outputs": [],
   "source": [
    "projectStateManager = ProjectStateManager.singleton()\n",
    "projectStateManager.create_project_state('deep-dive')\n",
    "projectStateManager.create_project_state('my-first-project')\n",
    "projectStateManager.create_project_state('my-second-project')"
   ]
  },
  {
   "cell_type": "code",
   "execution_count": 15,
   "metadata": {},
   "outputs": [
    {
     "data": {
      "text/plain": [
       "[{'project_id': 'deep-dive',\n",
       "  'chat_id': '893c5dc2-9ca8-4a5d-9562-f2ae4abc41b6',\n",
       "  'chat_start_date': '2025-02-24 07:59:38 AM',\n",
       "  'chat_title': 'Chat on 2025-02-24 07:59:38 AM',\n",
       "  'chat_llm_name': 'deep.seekr1:32b',\n",
       "  'active_chat': False},\n",
       " {'project_id': 'deep-dive',\n",
       "  'chat_id': '4edea6c2-a59a-43e2-98cb-8a33beba89b6',\n",
       "  'chat_start_date': '2025-02-24 07:45:40 AM',\n",
       "  'chat_title': 'Not Active',\n",
       "  'chat_llm_name': 'deep.seekr1:32b',\n",
       "  'active_chat': True}]"
      ]
     },
     "execution_count": 15,
     "metadata": {},
     "output_type": "execute_result"
    }
   ],
   "source": [
    "chatHistoryManager = ChatHistoryManager.singleton()\n",
    "chatHistoryManager.get_chat_history('deep-dive')"
   ]
  },
  {
   "cell_type": "code",
   "execution_count": null,
   "metadata": {},
   "outputs": [],
   "source": [
    "chatHistoryManager.delete_chat_history('deep-dive')"
   ]
  },
  {
   "cell_type": "code",
   "execution_count": 10,
   "metadata": {},
   "outputs": [
    {
     "name": "stdout",
     "output_type": "stream",
     "text": [
      "2025-02-24 07:59:38 app DEBUG: _get_parent_directory /Users/dan/Code/LLM/DeepDive/backend/app/base_manager.py\n",
      "2025-02-24 07:59:38 app DEBUG: _get_parent_directory /Users/dan/Code/LLM/DeepDive/backend/app/base_manager.py\n"
     ]
    },
    {
     "data": {
      "text/plain": [
       "{'project_id': 'deep-dive',\n",
       " 'chat_id': '893c5dc2-9ca8-4a5d-9562-f2ae4abc41b6',\n",
       " 'chat_start_date': '2025-02-24 07:59:38 AM',\n",
       " 'chat_title': 'Chat on 2025-02-24 07:59:38 AM',\n",
       " 'chat_llm_name': 'deep.seekr1:32b',\n",
       " 'active_chat': True}"
      ]
     },
     "execution_count": 10,
     "metadata": {},
     "output_type": "execute_result"
    }
   ],
   "source": [
    "chatHistoryItem = ChatHistoryItem(project_id='deep-dive')\n",
    "chatHistoryManager.create_chat_history_item(chatHistoryItem)"
   ]
  },
  {
   "cell_type": "code",
   "execution_count": 4,
   "metadata": {},
   "outputs": [
    {
     "name": "stdout",
     "output_type": "stream",
     "text": [
      "2025-02-24 07:55:58 app DEBUG: ENTERING update_chat_history_item_title with=4edea6c2-a59a-43e2-98cb-8a33beba89b6 and title=Not Active\n",
      "2025-02-24 07:55:58 app DEBUG: IN 1\n",
      "2025-02-24 07:55:58 app DEBUG: IN 1\n",
      "2025-02-24 07:55:58 app DEBUG: IN 2\n",
      "2025-02-24 07:55:58 app DEBUG: _get_parent_directory /Users/dan/Code/LLM/DeepDive/backend/app/base_manager.py\n",
      "2025-02-24 07:55:58 app DEBUG: _get_parent_directory /Users/dan/Code/LLM/DeepDive/backend/app/base_manager.py\n"
     ]
    },
    {
     "data": {
      "text/plain": [
       "{'project_id': 'deep-dive',\n",
       " 'chat_id': '4edea6c2-a59a-43e2-98cb-8a33beba89b6',\n",
       " 'chat_start_date': '2025-02-24 07:45:40 AM',\n",
       " 'chat_title': 'Not Active',\n",
       " 'chat_llm_name': 'deep.seekr1:32b',\n",
       " 'active_chat': False}"
      ]
     },
     "execution_count": 4,
     "metadata": {},
     "output_type": "execute_result"
    }
   ],
   "source": [
    "chatHistoryItem = ChatHistoryItem(project_id='deep-dive',chat_id='4edea6c2-a59a-43e2-98cb-8a33beba89b6',chat_title='Not Active')\n",
    "chatHistoryManager.update_chat_history_item_title(chatHistoryItem)\n"
   ]
  },
  {
   "cell_type": "code",
   "execution_count": 8,
   "metadata": {},
   "outputs": [
    {
     "name": "stdout",
     "output_type": "stream",
     "text": [
      "2025-02-24 07:59:01 app DEBUG: _get_parent_directory /Users/dan/Code/LLM/DeepDive/backend/app/base_manager.py\n",
      "2025-02-24 07:59:01 app DEBUG: _get_parent_directory /Users/dan/Code/LLM/DeepDive/backend/app/base_manager.py\n"
     ]
    },
    {
     "data": {
      "text/plain": [
       "{'status': 'SUCCESS'}"
      ]
     },
     "execution_count": 8,
     "metadata": {},
     "output_type": "execute_result"
    }
   ],
   "source": [
    "chatHistoryItem = ChatHistoryItem(project_id='deep-dive',chat_id='5a299fcd-2f70-4132-b83d-bec73950d7cf')\n",
    "chatHistoryManager.delete_chat_history_item(chatHistoryItem)\n"
   ]
  },
  {
   "cell_type": "code",
   "execution_count": 12,
   "metadata": {},
   "outputs": [
    {
     "data": {
      "text/plain": [
       "{'project_id': 'deep-dive',\n",
       " 'chat_id': '893c5dc2-9ca8-4a5d-9562-f2ae4abc41b6',\n",
       " 'chat_start_date': '2025-02-24 07:59:38 AM',\n",
       " 'chat_title': 'Chat on 2025-02-24 07:59:38 AM',\n",
       " 'chat_llm_name': 'deep.seekr1:32b',\n",
       " 'active_chat': True}"
      ]
     },
     "execution_count": 12,
     "metadata": {},
     "output_type": "execute_result"
    }
   ],
   "source": [
    "chatHistoryManager.get_active_chat('deep-dive')"
   ]
  },
  {
   "cell_type": "code",
   "execution_count": 14,
   "metadata": {},
   "outputs": [
    {
     "name": "stdout",
     "output_type": "stream",
     "text": [
      "2025-02-24 08:02:40 app DEBUG: _get_parent_directory /Users/dan/Code/LLM/DeepDive/backend/app/base_manager.py\n",
      "2025-02-24 08:02:40 app DEBUG: _get_parent_directory /Users/dan/Code/LLM/DeepDive/backend/app/base_manager.py\n"
     ]
    },
    {
     "data": {
      "text/plain": [
       "{'project_id': 'deep-dive',\n",
       " 'chat_id': '893c5dc2-9ca8-4a5d-9562-f2ae4abc41b6',\n",
       " 'chat_start_date': '2025-02-24 07:59:38 AM',\n",
       " 'chat_title': 'Chat on 2025-02-24 07:59:38 AM',\n",
       " 'chat_llm_name': 'deep.seekr1:32b',\n",
       " 'active_chat': False}"
      ]
     },
     "execution_count": 14,
     "metadata": {},
     "output_type": "execute_result"
    }
   ],
   "source": [
    "chatHistoryManager.set_active_chat('deep-dive','4edea6c2-a59a-43e2-98cb-8a33beba89b6')"
   ]
  },
  {
   "cell_type": "code",
   "execution_count": null,
   "metadata": {},
   "outputs": [],
   "source": []
  }
 ],
 "metadata": {
  "kernelspec": {
   "display_name": "deep-dive",
   "language": "python",
   "name": "python3"
  },
  "language_info": {
   "codemirror_mode": {
    "name": "ipython",
    "version": 3
   },
   "file_extension": ".py",
   "mimetype": "text/x-python",
   "name": "python",
   "nbconvert_exporter": "python",
   "pygments_lexer": "ipython3",
   "version": "3.12.9"
  }
 },
 "nbformat": 4,
 "nbformat_minor": 2
}
