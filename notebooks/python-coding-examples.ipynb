{
 "cells": [
  {
   "cell_type": "code",
   "execution_count": 1,
   "metadata": {},
   "outputs": [],
   "source": [
    "# System level imports\n",
    "import sys\n",
    "import os\n",
    "\n",
    "# ##### SET SYS PATH TO WHERE THE CODE IS. #####\n",
    "# Note: Putting our code first in the sys path will make sure it gets picked up first\n",
    "deep_dive_base_dir='/Users/dan/Code/LLM/DeepDive/backend'\n",
    "sys.path.insert(0, deep_dive_base_dir)"
   ]
  },
  {
   "cell_type": "code",
   "execution_count": 2,
   "metadata": {},
   "outputs": [],
   "source": [
    "from app.session_manager import SessionManager\n",
    "from app.project_state_manager import ProjectStateManager, ProjectStateItem\n",
    "from app.chat_history_manager import ChatHistoryManager, ChatHistoryItem\n"
   ]
  },
  {
   "cell_type": "code",
   "execution_count": 3,
   "metadata": {},
   "outputs": [
    {
     "name": "stdout",
     "output_type": "stream",
     "text": [
      "2025-02-24 21:12:10 app DEBUG: _get_parent_directory /Users/dan/Code/LLM/DeepDive/backend/app/base_manager.py\n"
     ]
    },
    {
     "data": {
      "text/plain": [
       "{'Error': 'Project Name my-second-project already exists. Project name must be unique.'}"
      ]
     },
     "execution_count": 3,
     "metadata": {},
     "output_type": "execute_result"
    }
   ],
   "source": [
    "\n",
    "projectStateManager = ProjectStateManager.singleton()\n",
    "projectStateItem1 = ProjectStateItem(project_name='deep-dive',project_llm_name='my_llm')\n",
    "projectStateItem2 = ProjectStateItem(project_name='my-first-project',project_llm_name='my_llm',project_system_prompt=\"Do only good\")\n",
    "projectStateItem3 = ProjectStateItem(project_name='my-second-project')\n",
    "\n",
    "projectStateManager.create_project_state(projectStateItem1)\n",
    "projectStateManager.create_project_state(projectStateItem2)\n",
    "projectStateManager.create_project_state(projectStateItem3)"
   ]
  },
  {
   "cell_type": "code",
   "execution_count": 4,
   "metadata": {},
   "outputs": [
    {
     "name": "stdout",
     "output_type": "stream",
     "text": [
      "2025-02-24 21:12:14 app DEBUG: _get_parent_directory /Users/dan/Code/LLM/DeepDive/backend/app/base_manager.py\n"
     ]
    }
   ],
   "source": [
    "projectStateManager = ProjectStateManager.singleton()\n",
    "projectStateItem4 = ProjectStateItem(project_name='deep-dive',project_llm_name='my_better_llm')\n",
    "projectStateManager.update_project_state(projectStateItem4)"
   ]
  },
  {
   "cell_type": "code",
   "execution_count": 5,
   "metadata": {},
   "outputs": [
    {
     "name": "stdout",
     "output_type": "stream",
     "text": [
      "2025-02-24 21:12:16 app DEBUG: FME\n",
      "2025-02-24 21:12:16 app DEBUG: chat_history_items=[{'project_id': 'deep-dive', 'chat_id': 'bd54cdd6-0d05-465d-9eec-1cb6f5afa9a0', 'chat_start_date': '2025-02-24 08:03:27 PM', 'chat_title': 'Chat on 2025-02-24 08:03:27 PM', 'chat_llm_name': 'llama3.2:1b', 'active_chat': True}, {'project_id': 'deep-dive', 'chat_id': 'ebeadbb9-80d2-4a5d-9523-98a0fc8e5ce1', 'chat_start_date': '2025-02-24 05:47:33 PM', 'chat_title': 'Chat as Dan', 'chat_llm_name': 'llama3.2:1b', 'active_chat': False}]\n",
      "2025-02-24 21:12:16 app DEBUG: {'project_id': 'deep-dive', 'chat_id': 'bd54cdd6-0d05-465d-9eec-1cb6f5afa9a0', 'chat_start_date': '2025-02-24 08:03:27 PM', 'chat_title': 'Chat on 2025-02-24 08:03:27 PM', 'chat_llm_name': 'llama3.2:1b', 'active_chat': True}\n",
      "2025-02-24 21:12:16 app DEBUG: _get_parent_directory /Users/dan/Code/LLM/DeepDive/backend/app/base_manager.py\n",
      "2025-02-24 21:12:16 app DEBUG: _get_parent_directory /Users/dan/Code/LLM/DeepDive/backend/app/base_manager.py\n"
     ]
    },
    {
     "data": {
      "text/plain": [
       "{'project_id': 'deep-dive',\n",
       " 'chat_id': 'bd54cdd6-0d05-465d-9eec-1cb6f5afa9a0',\n",
       " 'chat_start_date': '2025-02-24 08:03:27 PM',\n",
       " 'chat_title': 'Chat on 2025-02-24 08:03:27 PM',\n",
       " 'chat_llm_name': 'llama3.2:1b',\n",
       " 'active_chat': True}"
      ]
     },
     "execution_count": 5,
     "metadata": {},
     "output_type": "execute_result"
    }
   ],
   "source": [
    "chat_history_manager = ChatHistoryManager.singleton()\n",
    "project_id =\"deep-dive\"\n",
    "chat_id= \"bd54cdd6-0d05-465d-9eec-1cb6f5afa9a0\"\n",
    "chat_history_item = ChatHistoryItem(project_id=project_id, chat_id=chat_id)\n",
    "chat_history_manager.set_active_chat(chat_history_item)\n"
   ]
  },
  {
   "cell_type": "code",
   "execution_count": null,
   "metadata": {},
   "outputs": [],
   "source": [
    "chatHistoryManager.delete_chat_history('deep-dive')"
   ]
  },
  {
   "cell_type": "code",
   "execution_count": null,
   "metadata": {},
   "outputs": [],
   "source": [
    "chatHistoryItem = ChatHistoryItem(project_id='deep-dive')\n",
    "chatHistoryManager.create_chat_history_item(chatHistoryItem)"
   ]
  },
  {
   "cell_type": "code",
   "execution_count": null,
   "metadata": {},
   "outputs": [],
   "source": [
    "chatHistoryItem = ChatHistoryItem(project_id='deep-dive',chat_id='4edea6c2-a59a-43e2-98cb-8a33beba89b6',chat_title='Not Active')\n",
    "chatHistoryManager.update_chat_history_item_title(chatHistoryItem)\n"
   ]
  },
  {
   "cell_type": "code",
   "execution_count": null,
   "metadata": {},
   "outputs": [],
   "source": [
    "chatHistoryItem = ChatHistoryItem(project_id='deep-dive',chat_id='5a299fcd-2f70-4132-b83d-bec73950d7cf')\n",
    "chatHistoryManager.delete_chat_history_item(chatHistoryItem)\n"
   ]
  },
  {
   "cell_type": "code",
   "execution_count": null,
   "metadata": {},
   "outputs": [],
   "source": [
    "chatHistoryManager.get_active_chat('deep-dive')"
   ]
  },
  {
   "cell_type": "code",
   "execution_count": null,
   "metadata": {},
   "outputs": [],
   "source": [
    "chatHistoryManager.set_active_chat('deep-dive','4edea6c2-a59a-43e2-98cb-8a33beba89b6')"
   ]
  },
  {
   "cell_type": "code",
   "execution_count": null,
   "metadata": {},
   "outputs": [],
   "source": []
  }
 ],
 "metadata": {
  "kernelspec": {
   "display_name": "deep-dive",
   "language": "python",
   "name": "python3"
  },
  "language_info": {
   "codemirror_mode": {
    "name": "ipython",
    "version": 3
   },
   "file_extension": ".py",
   "mimetype": "text/x-python",
   "name": "python",
   "nbconvert_exporter": "python",
   "pygments_lexer": "ipython3",
   "version": "3.12.9"
  }
 },
 "nbformat": 4,
 "nbformat_minor": 2
}
