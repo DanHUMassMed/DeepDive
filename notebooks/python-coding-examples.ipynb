{
 "cells": [
  {
   "cell_type": "code",
   "execution_count": 1,
   "metadata": {},
   "outputs": [],
   "source": [
    "# System level imports\n",
    "import sys\n",
    "import os\n",
    "\n",
    "# ##### SET SYS PATH TO WHERE THE CODE IS. #####\n",
    "# Note: Putting our code first in the sys path will make sure it gets picked up first\n",
    "deep_dive_base_dir='/Users/dan/Code/LLM/DeepDive/backend'\n",
    "sys.path.insert(0, deep_dive_base_dir)"
   ]
  },
  {
   "cell_type": "code",
   "execution_count": 2,
   "metadata": {},
   "outputs": [],
   "source": [
    "from app.session_manager import SessionManager\n",
    "from app.project_state_manager import ProjectStateManager, ProjectStateItem\n",
    "from app.chat_history_manager import ChatHistoryManager, ChatHistoryItem\n"
   ]
  },
  {
   "cell_type": "code",
   "execution_count": 3,
   "metadata": {},
   "outputs": [
    {
     "data": {
      "text/plain": [
       "{'project_id': 'deep-dive1',\n",
       " 'project_name': 'deep-dive1',\n",
       " 'project_start_date': '2025-02-25 04:03:49 PM',\n",
       " 'chat_history_timestamp': '2025-02-25 16:03:49.367',\n",
       " 'project_llm_name': 'my_llm',\n",
       " 'project_system_prompt': \"Answer all questions to the best of your ability. Answer concisely but correctly. If you do not know the answer, just say 'I don’t know.'\",\n",
       " 'project_data_dir': '/User/home/dan/data',\n",
       " 'project_data_toggle': False,\n",
       " 'chat_history_items': []}"
      ]
     },
     "execution_count": 3,
     "metadata": {},
     "output_type": "execute_result"
    }
   ],
   "source": [
    "\n",
    "projectStateManager = ProjectStateManager.singleton()\n",
    "projectStateItem1 = ProjectStateItem(project_name='deep-dive1',project_llm_name='my_llm',project_data_dir='/User/home/dan/data')\n",
    "projectStateItem2 = ProjectStateItem(project_name='my-first-project',project_llm_name='my_llm',project_system_prompt=\"Do only good\")\n",
    "projectStateItem3 = ProjectStateItem(project_name='my-second-project')\n",
    "\n",
    "projectStateManager.create_project_state(projectStateItem1)\n",
    "#projectStateManager.create_project_state(projectStateItem2)\n",
    "#projectStateManager.create_project_state(projectStateItem3)"
   ]
  },
  {
   "cell_type": "code",
   "execution_count": 6,
   "metadata": {},
   "outputs": [
    {
     "data": {
      "text/plain": [
       "{'status': 'SUCCESS'}"
      ]
     },
     "execution_count": 6,
     "metadata": {},
     "output_type": "execute_result"
    }
   ],
   "source": [
    "projectStateManager = ProjectStateManager.singleton()\n",
    "projectStateItem4 = ProjectStateItem(project_name='deep-dive1',project_llm_name='my_better_llm',project_data_toggle=True)\n",
    "projectStateManager.update_project_state(projectStateItem4)"
   ]
  },
  {
   "cell_type": "code",
   "execution_count": 7,
   "metadata": {},
   "outputs": [
    {
     "data": {
      "text/plain": [
       "{'project_name': 'deep-dive1',\n",
       " 'project_start_date': '2025-02-25 04:03:49 PM',\n",
       " 'project_llm_name': 'my_better_llm',\n",
       " 'project_system_prompt': \"Answer all questions to the best of your ability. Answer concisely but correctly. If you do not know the answer, just say 'I don’t know.'\",\n",
       " 'project_data_dir': '/User/home/dan/data',\n",
       " 'project_data_toggle': True}"
      ]
     },
     "execution_count": 7,
     "metadata": {},
     "output_type": "execute_result"
    }
   ],
   "source": [
    "projectStateManager = ProjectStateManager.singleton()\n",
    "projectStateManager.get_project_state(\"deep-dive1\")"
   ]
  },
  {
   "cell_type": "code",
   "execution_count": null,
   "metadata": {},
   "outputs": [],
   "source": [
    "chat_history_manager = ChatHistoryManager.singleton()\n",
    "project_id =\"deep-dive\"\n",
    "chat_id= \"bd54cdd6-0d05-465d-9eec-1cb6f5afa9a0\"\n",
    "chat_history_item = ChatHistoryItem(project_id=project_id, chat_id=chat_id)\n",
    "chat_history_manager.set_active_chat(chat_history_item)\n"
   ]
  },
  {
   "cell_type": "code",
   "execution_count": null,
   "metadata": {},
   "outputs": [],
   "source": [
    "chatHistoryManager.delete_chat_history('deep-dive')"
   ]
  },
  {
   "cell_type": "code",
   "execution_count": null,
   "metadata": {},
   "outputs": [],
   "source": [
    "chatHistoryItem = ChatHistoryItem(project_id='deep-dive')\n",
    "chatHistoryManager.create_chat_history_item(chatHistoryItem)"
   ]
  },
  {
   "cell_type": "code",
   "execution_count": null,
   "metadata": {},
   "outputs": [],
   "source": [
    "chatHistoryItem = ChatHistoryItem(project_id='deep-dive',chat_id='4edea6c2-a59a-43e2-98cb-8a33beba89b6',chat_title='Not Active')\n",
    "chatHistoryManager.update_chat_history_item_title(chatHistoryItem)\n"
   ]
  },
  {
   "cell_type": "code",
   "execution_count": null,
   "metadata": {},
   "outputs": [],
   "source": [
    "chatHistoryItem = ChatHistoryItem(project_id='deep-dive',chat_id='5a299fcd-2f70-4132-b83d-bec73950d7cf')\n",
    "chatHistoryManager.delete_chat_history_item(chatHistoryItem)\n"
   ]
  },
  {
   "cell_type": "code",
   "execution_count": null,
   "metadata": {},
   "outputs": [],
   "source": [
    "chatHistoryManager.get_active_chat('deep-dive')"
   ]
  },
  {
   "cell_type": "code",
   "execution_count": null,
   "metadata": {},
   "outputs": [],
   "source": [
    "chatHistoryManager.set_active_chat('deep-dive','4edea6c2-a59a-43e2-98cb-8a33beba89b6')"
   ]
  },
  {
   "cell_type": "code",
   "execution_count": null,
   "metadata": {},
   "outputs": [],
   "source": []
  }
 ],
 "metadata": {
  "kernelspec": {
   "display_name": "deep-dive",
   "language": "python",
   "name": "python3"
  },
  "language_info": {
   "codemirror_mode": {
    "name": "ipython",
    "version": 3
   },
   "file_extension": ".py",
   "mimetype": "text/x-python",
   "name": "python",
   "nbconvert_exporter": "python",
   "pygments_lexer": "ipython3",
   "version": "3.12.9"
  }
 },
 "nbformat": 4,
 "nbformat_minor": 2
}
