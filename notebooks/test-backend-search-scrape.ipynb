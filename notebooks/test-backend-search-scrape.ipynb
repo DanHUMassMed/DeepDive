{
 "cells": [
  {
   "cell_type": "code",
   "execution_count": 1,
   "metadata": {},
   "outputs": [
    {
     "name": "stdout",
     "output_type": "stream",
     "text": [
      "Log file path: /Users/dan/Code/LLM/DeepDive/notebooks/backend.log\n"
     ]
    }
   ],
   "source": [
    "# System level imports\n",
    "import sys\n",
    "import os\n",
    "\n",
    "# ##### SET SYS PATH TO WHERE THE CODE IS. #####\n",
    "# Note: Putting our code first in the sys path will make sure it gets picked up first\n",
    "deep_dive_base_dir='/Users/dan/Code/LLM/DeepDive/backend'\n",
    "sys.path.insert(0, deep_dive_base_dir)\n",
    "\n",
    "os.environ[\"DEEP_DIVE_WORKSPACE\"] = \"/Users/dan/Code/LLM/DeepDive/workspace/notebooks\"\n",
    "#os.environ[\"DEEP_DIVE_WORKSPACE\"] = \"/Users/dan/Code/LLM/DeepDive/workspace/deep-dive\"\n",
    "\n",
    "os.environ[\"LOG_LEVEL\"] = \"TRACE\"\n",
    "\n",
    "from app.utils.logging_utilities import setup_logging, get_log_file_path\n",
    "logger = setup_logging()\n",
    "log_file_path = get_log_file_path(logger)\n",
    "print(f\"Log file path: {log_file_path}\")\n",
    "        "
   ]
  },
  {
   "cell_type": "code",
   "execution_count": null,
   "metadata": {},
   "outputs": [],
   "source": [
    "from app.agents.prompts import Prompts\n",
    "\n",
    "prompts = Prompts()\n",
    "prompts.print_params()"
   ]
  },
  {
   "cell_type": "code",
   "execution_count": null,
   "metadata": {},
   "outputs": [],
   "source": [
    "from app.agents.search_agent import SearchAgent\n",
    "search_agent = SearchAgent()\n",
    "result=[\"Bernie Sanders political career highlights 2025\", \"Bernie Sanders recent speeches and statements March 2025\", \"Public opinion on Bernie Sanders policies as of March 2025\"]\n",
    "search_agent._is_list_of_strings(result)"
   ]
  },
  {
   "cell_type": "code",
   "execution_count": null,
   "metadata": {},
   "outputs": [],
   "source": [
    "from app.search_methods.internet_search import ddg_search\n",
    "query=\"What is Agentic AI?\"\n",
    "search_results = ddg_search(query, max_results=5, retries=3)\n",
    "search_results"
   ]
  },
  {
   "cell_type": "markdown",
   "metadata": {},
   "source": [
    "# Do Search"
   ]
  },
  {
   "cell_type": "code",
   "execution_count": 2,
   "metadata": {},
   "outputs": [
    {
     "name": "stdout",
     "output_type": "stream",
     "text": [
      "2025-03-11 15:12:10 langchain_community.utils.user_agent WARNING: USER_AGENT environment variable not set, consider setting it to identify your requests.\n",
      "2025-03-11 15:12:11 app INFO: Using provided workspace at: /Users/dan/Code/LLM/DeepDive/workspace/notebooks\n",
      "2025-03-11 15:12:15 root DEBUG: PROMPT get_sub_queries response = [\"Bernie Sanders political career highlights 2025\", \"Bernie Sanders recent speeches and statements March 2025\", \"Public opinion on Bernie Sanders policies as of March 2025\"]\n"
     ]
    },
    {
     "data": {
      "text/plain": [
       "['Bernie Sanders political career highlights 2025',\n",
       " 'Bernie Sanders recent speeches and statements March 2025',\n",
       " 'Public opinion on Bernie Sanders policies as of March 2025']"
      ]
     },
     "execution_count": 2,
     "metadata": {},
     "output_type": "execute_result"
    }
   ],
   "source": [
    "from app.agents.search_agent import SearchAgent\n",
    "search_agent = SearchAgent()\n",
    "query = \"Who is Bernie Sanders?\"\n",
    "sub_queries = await search_agent._get_sub_queries(query)\n",
    "sub_queries"
   ]
  },
  {
   "cell_type": "code",
   "execution_count": 3,
   "metadata": {},
   "outputs": [
    {
     "name": "stdout",
     "output_type": "stream",
     "text": [
      "2025-03-11 15:12:19 app DEBUG: scrape_urls extract_data_from_link link='https://apnews.com/article/bernie-sanders-democrats-trump-c213d5ae42737c956d46f6f7f17e5abd'\n",
      "2025-03-11 15:12:19 app DEBUG: scrape_urls extract_data_from_link link='https://www.twincities.com/2025/03/10/democrats-bernie-sanders/'\n",
      "2025-03-11 15:12:19 app DEBUG: scrape_urls extract_data_from_link link='https://abcnews.go.com/Politics/wireStory/drawing-huge-crowds-bernie-sanders-steps-leadership-anti-119623034'\n",
      "2025-03-11 15:12:19 app DEBUG: scrape_urls extract_data_from_link link='https://www.vermontpublic.org/local-news/2025-03-10/drawing-huge-crowds-bernie-sanders-leadership-anti-trump-resistance'\n",
      "2025-03-11 15:12:19 app DEBUG: scrape_urls extract_data_from_link link='https://otakukart.com/bernie-sanders-net-worth-2025-political-advocacy-books-and-wealth/'\n"
     ]
    },
    {
     "data": {
      "text/plain": [
       "'Source: https://otakukart.com/bernie-sanders-net-worth-2025-political-advocacy-books-and-wealth/\\nTitle: \\nContent: Net Worth  Bernie Sanders Net Worth 2025: Political Advocacy, Books, and Wealth\\nFrom Grassroots Activist to Multi-Millionaire Senator—How Bernie Sanders Built His Fortune and Legacy  by\\nOliver Johnson  February 13, 2025  in\\nNet Worth  0  Bernie Sanders (Image via Getty)  Bernie Sanders is a well-known American politician with an estimated net worth of $3 million. He has served as a United States Senator for Vermont since 2007 and has run for president multiple times. His most recent financial disclosure in 2018 revealed a net worth of $1.7 million, largely earned through book royalties and advances. Over the years, Bernie has built wealth through various channels, and in 2018, his total income from book earnings and other sources reached $4.7 million.\\n\\nSource: https://otakukart.com/bernie-sanders-net-worth-2025-political-advocacy-books-and-wealth/\\nTitle: \\nContent: Presidential Campaigns: A Grassroots Movement\\nBernie Sanders first announced his candidacy for the 2016 Democratic Presidential nomination on April 30, 2015. His campaign was fueled by grassroots donations, breaking fundraising records and receiving contributions from over 1.3 million people. Although Hillary Clinton won the nomination, Sanders’ campaign had a lasting impact on the political terrain. In 2019, Sanders announced his second presidential run for 2020. His campaign relied on similar grassroots support, raising millions of dollars and recruiting over a million volunteers. Sanders won the New Hampshire primary in February 2020, continuing his fight for progressive change.\\nAlso Read: Heidi Klum Net Worth 2025: Modeling Career, TV Shows, and Business Ventures\\nTags: Bernie Sanders  ShareTweetSharePin5Send  Previous Post\\nMitt Romney Net Worth 2025: Political Career, Investments, and Earnings  Next Post\\n\\nSource: https://otakukart.com/bernie-sanders-net-worth-2025-political-advocacy-books-and-wealth/\\nTitle: \\nContent: Sanders began his political career in Vermont, where he was elected mayor of Burlington in 1981. He held this position for eight years, during which he became known for his progressive politics, focusing on affordable housing, environmental protection, and civil rights. In 1990, he transitioned to the U.S. House of Representatives, serving as an independent. Over 16 years, he championed causes that favored working-class Americans and criticized the role of money in politics. Sanders’ political influence expanded when he was elected to the U.S. Senate in 2006. Throughout his tenure, he has been a vocal advocate for universal healthcare, free college education, and higher minimum wages. His presidential bids in 2016 and 2020 helped shape American politics, garnering a loyal progressive following and pushing the Democratic Party to adopt more progressive policies.\\nBernie Sanders (Image via Getty)\\n\\nSource: https://otakukart.com/bernie-sanders-net-worth-2025-political-advocacy-books-and-wealth/\\nTitle: \\nContent: Bernie Sanders Net Worth 2025: Political Advocacy, Books, and Wealth  Newsletter  Popular Now:\\nWiki\\nBrowse TV Shows\\nBrowse Anime\\nBrowse Manga\\nShop  Home\\n\\nLifestyle\\n\\nSource: https://otakukart.com/bernie-sanders-net-worth-2025-political-advocacy-books-and-wealth/\\nTitle: \\nContent: Before becoming a national figure, Sanders earned $33,700 per year as the mayor of Burlington from 1981 to 1989. As a U.S. Congressman from 1990 to 2005, his salary ranged from $90,000 to $140,000 annually. In the Senate, his salary has been set at $174,000 per year since 2005. As of June 2017, he estimated his net worth at $2 million, factoring in mortgages and retirement accounts.\\nAlso Read: Paul McCartney Net Worth 2025: Music Career, Tours, and Investments\\nTax Returns and Financial Disclosure\\nDuring his 2020 presidential campaign, Sanders released his tax returns dating back to 2010. The couple’s combined earnings from 2009 to 2018 totaled $4.7 million, with the following breakdown:\\n'"
      ]
     },
     "execution_count": 3,
     "metadata": {},
     "output_type": "execute_result"
    }
   ],
   "source": [
    "sub_query_content = await search_agent._process_internet_query(sub_queries[0])\n",
    "sub_query_content"
   ]
  },
  {
   "cell_type": "code",
   "execution_count": 4,
   "metadata": {},
   "outputs": [
    {
     "name": "stdout",
     "output_type": "stream",
     "text": [
      "2025-03-11 15:12:34 app DEBUG: scrape_urls extract_data_from_link link='https://www.usnews.com/news/politics/articles/2025-03-10/drawing-huge-crowds-bernie-sanders-steps-into-leadership-of-the-anti-trump-resistance'\n",
      "Error! : HTTPSConnectionPool(host='www.usnews.com', port=443): Read timed out. (read timeout=10)\n",
      "2025-03-11 15:12:45 app DEBUG: scrape_urls extract_data_from_link link='https://www.newsweek.com/videos-bernie-sanders-large-midwest-rallies-take-off-social-media-2041843'\n",
      "2025-03-11 15:12:45 app DEBUG: scrape_urls extract_data_from_link link='https://www.usatoday.com/story/news/2025/03/05/senator-bernie-sanders-president-donald-trump-joint-address/81570095007/'\n",
      "2025-03-11 15:12:45 app DEBUG: scrape_urls extract_data_from_link link='https://www.sanders.senate.gov/press-releases/prepared-remarks-sanders-delivers-livestreamed-response-to-president-trumps-congressional-address/'\n",
      "2025-03-11 15:12:45 app DEBUG: scrape_urls extract_data_from_link link='https://www.wpr.org/news/bernie-sanders-capacity-kenosha-uw-parkside-wisconsin'\n",
      "2025-03-11 15:12:45 app DEBUG: scrape_urls extract_data_from_link link='https://www.clickondetroit.com/news/politics/2025/03/10/drawing-huge-crowds-bernie-sanders-steps-into-leadership-of-the-anti-trump-resistance/'\n",
      "2025-03-11 15:12:47 app DEBUG: scrape_urls extract_data_from_link link='https://www.newsweek.com/bernie-sanders-predicts-whats-next-social-security-under-trump-2042602'\n",
      "2025-03-11 15:12:47 app DEBUG: scrape_urls extract_data_from_link link='https://www.mercurynews.com/2025/03/10/democrats-bernie-sanders/'\n",
      "2025-03-11 15:12:47 app DEBUG: scrape_urls extract_data_from_link link='https://www.wsls.com/news/politics/2025/03/10/drawing-huge-crowds-bernie-sanders-steps-into-leadership-of-the-anti-trump-resistance/'\n"
     ]
    },
    {
     "data": {
      "text/plain": [
       "['',\n",
       " 'Source: https://www.sanders.senate.gov/press-releases/prepared-remarks-sanders-delivers-livestreamed-response-to-president-trumps-congressional-address/\\nTitle: \\nContent: Contact\\nScheduling Requests\\nPress Inquiries\\nNewsletter Signup  Search  Search  PREPARED REMARKS: Sanders Delivers Livestreamed Response’ to President Trump’s Congressional Address\\xa0\\nHome » Media » Press Releases » PREPARED REMARKS: Sanders Delivers Livestreamed Response’ to President Trump’s Congressional Address  PREPARED REMARKS: Sanders Delivers Livestreamed Response’ to President Trump’s Congressional Address  March 4, 2025  WASHINGTON, March 4 – Sen. Bernie Sanders (I-Vt.) today delivered remarks following President Trump’s address to a joint session of Congress. Over 91,000 viewers watched in real time on his social media platforms.\\nSanders’ remarks, as prepared for delivery, are below and can be watched\\xa0here.\\nHello everybody. Thanks for joining.\\n\\nSource: https://www.sanders.senate.gov/press-releases/prepared-remarks-sanders-delivers-livestreamed-response-to-president-trumps-congressional-address/\\nTitle: \\nContent: PREPARED REMARKS: Sanders Delivers Livestreamed Response’ to President Trump’s Congressional Address\\xa0 » Senator Bernie Sanders  Skip to content  Congressional Directed Spending  FOR VERMONTERS\\n\\nFor Vermonters\\nSERVICES\\n\\nGeneral Services\\nHelp with Federal Agencies\\nTour Requests\\nAcademies Nominations\\nFlag Requests\\nSenate Page Program\\nInternships\\nFederal Government Resources\\nCongressional Directed Spending Requests  VT Events\\nVT Seniors\\nVT Students\\nVT Veterans\\nVT Press\\nCOVID-19 and The American Rescue Plan  ISSUES\\n\\nIssues\\nLegislation  Media\\n\\nMedia\\nPress Releases\\nIn the News\\nOp-Eds\\nThe Bernie Buzz\\nVT Press  ABOUT BERNIE\\n\\nAbout Bernie\\nCommittee Assignments\\nPress Package  CONTACT\\n\\nContact\\nScheduling Requests\\nPress Inquiries\\nNewsletter Signup  Menu  FOR VERMONTERS\\n\\nFor Vermonters\\nSERVICES\\n\\nSource: https://www.wpr.org/news/bernie-sanders-capacity-kenosha-uw-parkside-wisconsin\\nTitle: \\nContent: PhoneThis field is for validation purposes and should be left unchanged.  An attendee cheers as Ellen Holly from the Walworth County Democrats speaks ahead of Sen. Bernie Sanders on Friday, March 7, 2025, at UW-Parkside in Kenosha, Wis. Angela Major/WPR\\nTo begin his remarks, Sanders pulled two contrasting scenes from his memory.\\nOne was something he saw in a Vermont town during Memorial Day celebrations.\\n“Every year, they have a kid from the high school reciting the Gettysburg Address,” he explained.\\n“And that the government of the people, by the people, for the people shall not perish from the earth,” Sanders quoted the speech.\\nThe other scene was from President Donald Trump’s January inauguration.\\n“Standing right behind Trump as he took his oath office were the three wealthiest men in America,” Sanders recalled.\\nSen. Bernie Sanders addresses attendees Friday, March 7, 2025, at UW-Parkside in Kenosha, Wis. Angela Major/WPR\\n\\nSource: https://www.clickondetroit.com/news/politics/2025/03/10/drawing-huge-crowds-bernie-sanders-steps-into-leadership-of-the-anti-trump-resistance/\\nTitle: \\nContent: 2025, in Warren, Mich. (AP Photo/Jose Juarez)Sen. Bernie Sanders, I-Vt., speaks during a \"Fighting Oligarchy: Where We Go From Here\" event Saturday, March 8, 2025, at Lincoln High School in Warren, Mich. (AP Photo/Jose Juarez)Sen. Bernie Sanders, I-Vt., right, greets the crowd following his speech on \"Fighting Oligarchy: Where We Go From Here,\" Saturday, March 8, 2025 at Lincoln High School in Warren, Mich. (AP Photo/Jose Juarez)Sen. Bernie Sanders, I-Vt., speaks during a \"Fighting Oligarchy: Where We Go From Here\" event Saturday, March 8, 2025 at Lincoln High School in Warren, Mich. (AP Photo/Jose Juarez)United Auto Workers President Shawn Fain acknowledges the crowd, as he heads to the stage to introduce Sen. Bernie Sanders, I-Vt., during a \"Fighting Oligarchy: Where We Go From Here\" event Saturday, March 8, 2025, at Lincoln High School in Warren, Mich. (AP Photo/Jose Juarez)Sen. Bernie Sanders, I-Vt., speaks during a \"Fighting Oligarchy: Where We Go From Here\" event Saturday, March\\n\\nSource: https://www.usatoday.com/story/news/2025/03/05/senator-bernie-sanders-president-donald-trump-joint-address/81570095007/\\nTitle: \\nContent: Bernie Sanders walks out on Trump, criticizes administration: WatchClick here for important updates to our privacy policy.The fatal DC plane crash exposes alarming risks of helicopter routes in commercial airspace, a preliminary report showsIs US safer from guns? Start the day smarter ☀️ Science of snowflakes Get the USA TODAY appU.S. Politics Sports Entertainment Life Money Travel Opinion CrosswordONLY AT USA TODAY:Newsletters For Subscribers From the Archives Crossword eNewspaper Magazines  InvestigationsPodcasts Video Humankind WITNESS (True Crime) Just Curious Best-selling Booklist LegalsOUR PORTFOLIO:10Best USAT Wine Club Shopping BlueprintWITNESS (True Crime) Southern Kitchen  Home Internet  NEWSBernie SandersAdd TopicBernie Sanders walks out on Trump\\'s speech, calls Trump\\'s remarks part of the \\'big lie\\'Rin VelascoUSA TODAY NETWORK - New EnglandHear this storySen. Bernie Sanders of Vermont had a lot to say after walking out of President Donald Trump\\'s speech.Trump\\'s address to\\n',\n",
       " 'Source: https://www.mercurynews.com/2025/03/10/democrats-bernie-sanders/\\nTitle: \\nContent: Nation  Trending:  National Politics |  VTA strike begins  National Politics |  HOA loses lawsuit  National Politics |  No housing, no growth  National Politics |  Q&A: Measles outbreak  National Politics |  Rainy season continues  National Politics |  Southwest’s new 🧳 charge  Breaking News  National Politics |  Dr. \\u200bSara Cody, public health official who led Santa Clara County’s COVID response, to retire  NewsPoliticsNational PoliticsNewsNews Based on facts, either observed and verified directly by the reporter, or reported and verified from knowledgeable sources.  National Politics |  Drawing huge crowds, Bernie Sanders steps into leadership of the anti-Trump resistance  Sanders stands alone as the only elected progressive willing to mount a national campaign to harness the fear and anger of the sprawling anti-Trump movement.Share this:Click to share on Facebook (Opens in new window)Click to share on Twitter (Opens in new window)Click to print (Opens in new window)Click to email a\\n\\nSource: https://www.mercurynews.com/2025/03/10/democrats-bernie-sanders/\\nTitle: \\nContent: Bernie Sanders steps into leadership of anti-Trump resistance  Skip to content  All Sections  Subscribe Now  58°F  Tuesday, March 11th 2025  Today\\'s e-Edition  Home Page  Close MenuNews\\n\\nNews\\nLatest Headlines\\nCrime and Public Safety\\nCalifornia News\\nNational News\\nWorld News\\nPolitics\\nEducation\\nEnvironment\\nScience\\nHealth\\nMr. Roadshow\\nTransportation\\nWeather  Local\\n\\nBay Area\\nSan Jose\\nSanta Clara County\\nPeninsula\\nSan Mateo County\\nAlameda County\\nSanta Cruz County\\nSal Pizarro  Obituaries\\n\\nObituaries\\nNews Obituaries\\nPlace an Obituary  Opinion\\n\\nOpinion\\nEditorials\\nOpinion Columnists\\nLetters to the Editor\\nCommentary\\nCartoons\\nElection Endorsements  Sports\\n\\nSports\\nSan Francisco 49ers\\nSan Francisco Giants\\nGolden State Warriors\\nRaiders\\nOakland Athletics\\nSan Jose Sharks\\nSan Jose Earthquakes\\nBay FC\\nCollege Sports\\nWilner Hotline\\nHigh School Sports\\nOther Sports\\nSports Columnists\\nSports Blogs\\nGolden State Valkyries  Things To Do\\n\\nSource: https://www.newsweek.com/bernie-sanders-predicts-whats-next-social-security-under-trump-2042602\\nTitle: \\nContent: Bernie Sanders Predicts What\\'s Next for Social Security Under Trump - Newsweek  U.S.WorldScienceHealthLifeRankingsOpinionEntertainmentFact CheckMy TurnEducation\\nEventsSportsPodcastsBetter PlanetBetter WorkplacesVaultMightierAutosNewslettersUnconventionalVantageExpertsVoicesSubscribe for $1Login  ×\\nSubscribe for $1\\nLoginU.S.WorldScienceHealthLifeRankingsOpinionEntertainmentFact CheckMy TurnEducationEventsSportsPodcastsBetter PlanetBetter WorkplacesVaultMightierAutosNewslettersUnconventionalVantageExpertsVoices  Share  Copy Link ✓ Link copied to clipboard!  News  Bernie Sanders  Donald Trump  Social Security  Bernie Sanders Predicts What\\'s Next for Social Security Under Trump\\nPublished Mar 10, 2025 at 10:28 PM EDT\\n\\nSource: https://www.newsweek.com/bernie-sanders-predicts-whats-next-social-security-under-trump-2042602\\nTitle: \\nContent: ✓ Link copied to clipboard!  Senator Bernie Sanders has predicted that Republicans, under President Donald Trump, will move to privatize Social Security and cut benefits to millions of vulnerable Americans.Newsweek reached out for comment to the White House via email on Monday night.Why It MattersThe future of programs like Social Security, Medicaid and Medicare have been a hot topic of debate since Trump returned to the White House in January while vowing to dramatically slash federal spending with help from Elon Musk\\'s Department of Government Efficiency (DOGE).Although Trump and Republicans in Congress have promised to leave federal social welfare programs intact, critics have dismissed GOP suggestions that only \"fraud, waste and abuse\" will be cut and raised alarm bells for seniors and those with disabilities who rely on Social Security and other programs.Sanders, the progressive independent from Vermont who ran for the Democratic nomination in the 2016 and 2020 presidential\\n\\nSource: https://www.wsls.com/news/politics/2025/03/10/drawing-huge-crowds-bernie-sanders-steps-into-leadership-of-the-anti-trump-resistance/\\nTitle: \\nContent: much of the media, and they have enormous influence over our political system,” he continued. “But from the bottom of my heart, I believe that if we stand together, we can beat them.”It’s unclear how long that Sanders, an octogenarian who was hospitalized for a heart condition during his 2020 campaign, will continue in this role. A spokesperson said Sanders hasn\\'t had any health issues since the 2019 episode. He is not expected to slow down anytime soon. Sanders is leaning on his 2020 presidential campaign manager, Faiz Shakir, to organize his stops, backed by a handful of former presidential campaign staffers working on a contract basis. Shakir, who lost his bid to become the new chair of the Democratic National Committee, acknowledged strategic differences within the party about how best to combat Trump.Last month, veteran political strategist James Carville penned an opinion piece calling for Democrats to “roll over and play dead,” betting that Trump and his party would ultimately\\n']"
      ]
     },
     "execution_count": 4,
     "metadata": {},
     "output_type": "execute_result"
    }
   ],
   "source": [
    "import asyncio\n",
    "context = await asyncio.gather(\n",
    "    *[search_agent._process_internet_query(sub_query) for sub_query in sub_queries]\n",
    ")\n",
    "context"
   ]
  },
  {
   "cell_type": "code",
   "execution_count": null,
   "metadata": {},
   "outputs": [],
   "source": [
    "from app.scrapers. scraper_methods import scrape_urls\n",
    "urls = [entry['href'] for entry in search_results]\n",
    "scrape_results = scrape_urls(urls)\n",
    "scrape_results"
   ]
  },
  {
   "cell_type": "code",
   "execution_count": null,
   "metadata": {},
   "outputs": [],
   "source": [
    "from app.embedding_methods.compressor import ContextCompressor\n",
    "context_compressor = ContextCompressor( documents=scrape_results)\n",
    "context_results = context_compressor.get_context(query, max_results=8)\n",
    "context_results"
   ]
  },
  {
   "cell_type": "code",
   "execution_count": null,
   "metadata": {},
   "outputs": [],
   "source": [
    "context_results"
   ]
  },
  {
   "cell_type": "code",
   "execution_count": 5,
   "metadata": {},
   "outputs": [
    {
     "name": "stdout",
     "output_type": "stream",
     "text": [
      "2025-03-11 15:46:26 root DEBUG: PROMPT get_sub_queries response = [\"Bernie Sanders political career highlights 2025\", \"Bernie Sanders recent speeches and statements March 2025\", \"Public opinion on Bernie Sanders policies as of March 2025\"]\n",
      "2025-03-11 15:46:27 app DEBUG: scrape_urls extract_data_from_link link='https://abcnews.go.com/Politics/wireStory/drawing-huge-crowds-bernie-sanders-steps-leadership-anti-119623034'\n",
      "2025-03-11 15:46:27 app DEBUG: scrape_urls extract_data_from_link link='https://apnews.com/article/bernie-sanders-democrats-trump-c213d5ae42737c956d46f6f7f17e5abd'\n",
      "2025-03-11 15:46:27 app DEBUG: scrape_urls extract_data_from_link link='https://www.vermontpublic.org/local-news/2025-03-10/drawing-huge-crowds-bernie-sanders-leadership-anti-trump-resistance'\n",
      "2025-03-11 15:46:27 app DEBUG: scrape_urls extract_data_from_link link='https://www.twincities.com/2025/03/10/democrats-bernie-sanders/'\n",
      "2025-03-11 15:46:27 app DEBUG: scrape_urls extract_data_from_link link='https://www.clickondetroit.com/news/politics/2025/03/10/drawing-huge-crowds-bernie-sanders-steps-into-leadership-of-the-anti-trump-resistance/'\n",
      "2025-03-11 15:46:31 app DEBUG: scrape_urls extract_data_from_link link='https://www.newsweek.com/videos-bernie-sanders-large-midwest-rallies-take-off-social-media-2041843'\n",
      "2025-03-11 15:46:31 app DEBUG: scrape_urls extract_data_from_link link='https://www.usatoday.com/story/news/2025/03/05/senator-bernie-sanders-president-donald-trump-joint-address/81570095007/'\n",
      "2025-03-11 15:46:31 app DEBUG: scrape_urls extract_data_from_link link='https://www.sanders.senate.gov/press-releases/prepared-remarks-sanders-delivers-livestreamed-response-to-president-trumps-congressional-address/'\n",
      "2025-03-11 15:46:31 app DEBUG: scrape_urls extract_data_from_link link='https://www.wpr.org/news/bernie-sanders-capacity-kenosha-uw-parkside-wisconsin'\n",
      "2025-03-11 15:46:31 app DEBUG: scrape_urls extract_data_from_link link='https://www.mercurynews.com/2025/03/10/democrats-bernie-sanders/'\n",
      "2025-03-11 15:46:34 app DEBUG: scrape_urls extract_data_from_link link='https://www.wsls.com/news/politics/2025/03/10/drawing-huge-crowds-bernie-sanders-steps-into-leadership-of-the-anti-trump-resistance/'\n",
      "2025-03-11 15:46:34 app DEBUG: scrape_urls extract_data_from_link link='https://www.macombdaily.com/2025/03/10/drawing-huge-crowds-bernie-sanders-steps-into-leadership-of-the-anti-trump-resistance/'\n",
      "2025-03-11 15:46:34 app DEBUG: scrape_urls extract_data_from_link link='https://politicalwire.com/2025/03/11/bernie-sanders-draws-huge-crowds/'\n",
      "2025-03-11 15:46:34 app DEBUG: scrape_urls extract_data_from_link link='https://inthesetimes.com/article/bernie-sanders-donald-trump-state-of-the-union-oligarchy'\n",
      "2025-03-11 15:46:37 app DEBUG: scrape_urls extract_data_from_link link='https://www.pbs.org/newshour/politics/drawing-huge-crowds-bernie-sanders-emerges-as-the-leader-of-the-anti-trump-resistance'\n",
      "2025-03-11 15:46:37 app DEBUG: scrape_urls extract_data_from_link link='https://www.columbian.com/news/2025/mar/10/drawing-huge-crowds-bernie-sanders-steps-into-leadership-of-the-anti-trump-resistance/'\n",
      "2025-03-11 15:46:37 app DEBUG: scrape_urls extract_data_from_link link='https://apnews.ca/biography/bernie-sanders/'\n"
     ]
    },
    {
     "data": {
      "text/plain": [
       "['Source: https://www.twincities.com/2025/03/10/democrats-bernie-sanders/\\nTitle: \\nContent: Show Caption1 of 5Sen. Bernie Sanders, I-Vt., speaks during a “Fighting Oligarchy: Where We Go From Here” event Saturday, March 8, 2025, at Lincoln High School in Warren, Mich. (AP Photo/Jose Juarez)\\n\\nSource: https://www.vermontpublic.org/local-news/2025-03-10/drawing-huge-crowds-bernie-sanders-leadership-anti-trump-resistance\\nTitle: \\nContent: APSen. Bernie Sanders speaks during a \"Fighting Oligarchy: Where We Go From Here\" event Saturday, March 8, at Lincoln High School in Warren, Mich. Sanders held all the events in swing U.S. House districts represented by Republicans.  Sanders, who was just elected to his fourth Senate term from Vermont, conceded that this is not the role he expected to play at this stage of his career.In fact, his team intentionally waited in the early weeks of the Trump presidency to launch what they are now calling his “stop oligarchy tour” to see if a high-profile Democrat would fill the leadership void. Instead, Sanders — who is not a Democrat himself despite allying with Senate Democrats and running twice for the party\\'s presidential nomination — has people wondering if he\\'s considering another White House bid.“This is like presidential campaign rallies, isn’t it? But I’m not running for president, and this is not a campaign,” Sanders told The Associated Press. “You gotta do what you gotta do. The\\n\\nSource: https://www.vermontpublic.org/local-news/2025-03-10/drawing-huge-crowds-bernie-sanders-leadership-anti-trump-resistance\\nTitle: \\nContent: enormous influence over our political system,” he continued. “But from the bottom of my heart, I believe that if we stand together, we can beat them.”It’s unclear how long that Sanders, an octogenarian who was hospitalized for a heart condition during his 2020 campaign, will continue in this role. A spokesperson said Sanders hasn\\'t had any health issues since the 2019 episode.He is not expected to slow down anytime soon. Sanders is leaning on his 2020 presidential campaign manager, Faiz Shakir, to organize his stops, backed by a handful of former presidential campaign staffers working on a contract basis.Shakir, who lost his bid to become the new chair of the Democratic National Committee, acknowledged strategic differences within the party about how best to combat Trump.Last month, veteran political strategist James Carville penned an opinion piece calling for Democrats to “roll over and play dead,” betting that Trump and his party would ultimately suffer a political backlash from\\n\\nSource: https://www.twincities.com/2025/03/10/democrats-bernie-sanders/\\nTitle: \\nContent: Sen. Bernie Sanders, I-Vt., right, greets the crowd following his speech on “Fighting Oligarchy: Where We Go From Here,” Saturday, March 8, 2025 at Lincoln High School in Warren, Mich. (AP Photo/Jose Juarez)\\nSen. Bernie Sanders, I-Vt., speaks during a “Fighting Oligarchy: Where We Go From Here” event Saturday, March 8, 2025 at Lincoln High School in Warren, Mich. (AP Photo/Jose Juarez)\\nUnited Auto Workers President Shawn Fain acknowledges the crowd, as he heads to the stage to introduce Sen. Bernie Sanders, I-Vt., during a “Fighting Oligarchy: Where We Go From Here” event Saturday, March 8, 2025, at Lincoln High School in Warren, Mich. (AP Photo/Jose Juarez)\\nSen. Bernie Sanders, I-Vt., speaks during a “Fighting Oligarchy: Where We Go From Here” event Saturday, March 8, 2025 at Lincoln High School in Warren, Mich. (AP Photo/Jose Juarez)\\n\\nSource: https://www.vermontpublic.org/local-news/2025-03-10/drawing-huge-crowds-bernie-sanders-leadership-anti-trump-resistance\\nTitle: \\nContent: Vermont Public Passport  App  Search  SCHEDULES  Local News  Drawing huge crowds, Bernie Sanders steps into leadership of the anti-Trump resistance  Vermont Public |  By  Steve Peoples, Associated Press  Published\\xa0March 10, 2025 at 11:04 AM EDT  Facebook  Twitter  LinkedIn  Email  Jose Juarez\\n/\\n',\n",
       " \"Source: https://www.sanders.senate.gov/press-releases/prepared-remarks-sanders-delivers-livestreamed-response-to-president-trumps-congressional-address/\\nTitle: \\nContent: Contact\\nScheduling Requests\\nPress Inquiries\\nNewsletter Signup  Search  Search  PREPARED REMARKS: Sanders Delivers Livestreamed Response’ to President Trump’s Congressional Address\\xa0\\nHome » Media » Press Releases » PREPARED REMARKS: Sanders Delivers Livestreamed Response’ to President Trump’s Congressional Address  PREPARED REMARKS: Sanders Delivers Livestreamed Response’ to President Trump’s Congressional Address  March 4, 2025  WASHINGTON, March 4 – Sen. Bernie Sanders (I-Vt.) today delivered remarks following President Trump’s address to a joint session of Congress. Over 91,000 viewers watched in real time on his social media platforms.\\nSanders’ remarks, as prepared for delivery, are below and can be watched\\xa0here.\\nHello everybody. Thanks for joining.\\n\\nSource: https://www.sanders.senate.gov/press-releases/prepared-remarks-sanders-delivers-livestreamed-response-to-president-trumps-congressional-address/\\nTitle: \\nContent: PREPARED REMARKS: Sanders Delivers Livestreamed Response’ to President Trump’s Congressional Address\\xa0 » Senator Bernie Sanders  Skip to content  Congressional Directed Spending  FOR VERMONTERS\\n\\nFor Vermonters\\nSERVICES\\n\\nGeneral Services\\nHelp with Federal Agencies\\nTour Requests\\nAcademies Nominations\\nFlag Requests\\nSenate Page Program\\nInternships\\nFederal Government Resources\\nCongressional Directed Spending Requests  VT Events\\nVT Seniors\\nVT Students\\nVT Veterans\\nVT Press\\nCOVID-19 and The American Rescue Plan  ISSUES\\n\\nIssues\\nLegislation  Media\\n\\nMedia\\nPress Releases\\nIn the News\\nOp-Eds\\nThe Bernie Buzz\\nVT Press  ABOUT BERNIE\\n\\nAbout Bernie\\nCommittee Assignments\\nPress Package  CONTACT\\n\\nContact\\nScheduling Requests\\nPress Inquiries\\nNewsletter Signup  Menu  FOR VERMONTERS\\n\\nFor Vermonters\\nSERVICES\\n\\nSource: https://www.wpr.org/news/bernie-sanders-capacity-kenosha-uw-parkside-wisconsin\\nTitle: \\nContent: PhoneThis field is for validation purposes and should be left unchanged.  An attendee cheers as Ellen Holly from the Walworth County Democrats speaks ahead of Sen. Bernie Sanders on Friday, March 7, 2025, at UW-Parkside in Kenosha, Wis. Angela Major/WPR\\nTo begin his remarks, Sanders pulled two contrasting scenes from his memory.\\nOne was something he saw in a Vermont town during Memorial Day celebrations.\\n“Every year, they have a kid from the high school reciting the Gettysburg Address,” he explained.\\n“And that the government of the people, by the people, for the people shall not perish from the earth,” Sanders quoted the speech.\\nThe other scene was from President Donald Trump’s January inauguration.\\n“Standing right behind Trump as he took his oath office were the three wealthiest men in America,” Sanders recalled.\\nSen. Bernie Sanders addresses attendees Friday, March 7, 2025, at UW-Parkside in Kenosha, Wis. Angela Major/WPR\\n\\nSource: https://www.mercurynews.com/2025/03/10/democrats-bernie-sanders/\\nTitle: \\nContent: Show Caption1 of 5Sen. Bernie Sanders, I-Vt., speaks during a “Fighting Oligarchy: Where We Go From Here” event Saturday, March 8, 2025, at Lincoln High School in Warren, Mich. (AP Photo/Jose Juarez)\\n\\nSource: https://www.usatoday.com/story/news/2025/03/05/senator-bernie-sanders-president-donald-trump-joint-address/81570095007/\\nTitle: \\nContent: Bernie Sanders walks out on Trump, criticizes administration: WatchClick here for important updates to our privacy policy.Ontario suspends 25% surcharge on electricity exports after Trump threatened higher tariffs in escalating trade warIs US safer from guns? Start the day smarter ☀️ Science of snowflakes Get the USA TODAY appU.S. Politics Sports Entertainment Life Money Travel Opinion CrosswordONLY AT USA TODAY:Newsletters For Subscribers From the Archives Crossword eNewspaper Magazines  InvestigationsPodcasts Video Humankind WITNESS (True Crime) Just Curious Best-selling Booklist LegalsOUR PORTFOLIO:10Best USAT Wine Club Shopping BlueprintWITNESS (True Crime) Southern Kitchen  Home Internet  NEWSBernie SandersAdd TopicBernie Sanders walks out on Trump's speech, calls Trump's remarks part of the 'big lie'Rin VelascoUSA TODAY NETWORK - New EnglandHear this storySen. Bernie Sanders of Vermont had a lot to say after walking out of President Donald Trump's speech.Trump's address to last\\n\",\n",
       " \"Source: https://www.macombdaily.com/2025/03/10/drawing-huge-crowds-bernie-sanders-steps-into-leadership-of-the-anti-trump-resistance/\\nTitle: \\nContent: ExpandBy Associated Press | ap@dfmdev.comUPDATED: March 10, 2025 at 8:20 AM EDTBy STEVE PEOPLESAssociated PressWARREN, Mich. (AP) — Bernie Sanders is standing alone on the back of a pickup truck shouting into a bullhorn.He’s facing several hundred ecstatic voters huddled outside a Macomb County high school — the group that did not fit inside the high school’s gym or two overflow rooms. The crowd screams in delight when he tells them that a combined total of 9,000 people had shown up for the rally.“What all of this tells me, is not just in Michigan or in Vermont, the people of this country will not allow us to move toward oligarchy. They will not allow Trump to take us into authoritarianism,” Sanders yelled. “We’re prepared to fight. And we’re going to win.”Sen. Bernie Sanders, I-Vt., right, greets the crowd following his speech on “Fighting Oligarchy: Where We Go From Here,” Saturday, March 8, 2025 at Lincoln High School in Warren. (AP Photo/Jose Juarez)At 83 years old, Sanders is not\\n\\nSource: https://politicalwire.com/2025/03/11/bernie-sanders-draws-huge-crowds/\\nTitle: \\nContent: Bernie Sanders Draws Huge Crowds  Front Page\\nMembers\\n\\nSubscribe\\nSign In  Trending\\nResources\\n\\nPolitics Extra\\nPolitical Job Hunt\\nPolitical Dictionary\\nElectoral Vote Map  Advertise\\nNewsletter\\nContact Us\\nYou are here: Home / 2028 Campaign / Bernie Sanders Draws Huge Crowds\\nMembers should sign in for the full experience.  Bernie Sanders Draws Huge Crowds\\nMarch 11, 2025 at 8:20 am EDT By Taegan Goddard Leave a Comment Associated Press: “This is not the role he expected to play at this stage of his career. In fact, his team intentionally waited in the early weeks of the Trump presidency to launch what they are now calling his ‘stop oligarchy tour’ to see if a high-profile Democrat would fill the leadership void.”\\nSave to Favorites  Bluesky  X  Threads  Facebook  Email\\n\\nSource: https://www.macombdaily.com/2025/03/10/drawing-huge-crowds-bernie-sanders-steps-into-leadership-of-the-anti-trump-resistance/\\nTitle: \\nContent: Bernie Sanders airs anti-Trump grievances at Warren Lincoln – Macomb Daily  Skip to content  All Sections  Subscribe Now  55°F  Tuesday, March 11th 2025  E-Edition  Home Page  Close MenuNews\\n\\nNews\\nLocal News\\nCrime and Public Safety\\nBusiness\\nBest Reviews\\nHealth\\nCoronavirus\\nFact Check\\nDataworks\\nMichigan News\\nNational News  Sports\\n\\nSports\\nMIPrepZone\\nSports Columns\\nLions / NFL\\nTigers / MLB\\nPistons / NBA\\nRed Wings / NHL\\nCollege  Things to Do\\n\\nThings To Do\\nEntertainment\\nTV Listings\\nRestaurants, Food and Drink\\nGo and Do Calendar\\nSuburban Life\\nPersonal Tech\\nVitality: Senior Living\\nPets and Animals\\nComics\\nPuzzles\\nEvents  Opinion\\nObituaries\\n\\nObituaries\\nPlace an Obituary  Marketplace\\n\\nMarketplace\\nBusiness Directory\\nToday’s Ads\\nJobs\\nSpecial Sections  Sponsored Content\\nTools\\n\\nSource: https://www.wsls.com/news/politics/2025/03/10/drawing-huge-crowds-bernie-sanders-steps-into-leadership-of-the-anti-trump-resistance/\\nTitle: \\nContent: much of the media, and they have enormous influence over our political system,” he continued. “But from the bottom of my heart, I believe that if we stand together, we can beat them.”It’s unclear how long that Sanders, an octogenarian who was hospitalized for a heart condition during his 2020 campaign, will continue in this role. A spokesperson said Sanders hasn't had any health issues since the 2019 episode. He is not expected to slow down anytime soon. Sanders is leaning on his 2020 presidential campaign manager, Faiz Shakir, to organize his stops, backed by a handful of former presidential campaign staffers working on a contract basis. Shakir, who lost his bid to become the new chair of the Democratic National Committee, acknowledged strategic differences within the party about how best to combat Trump.Last month, veteran political strategist James Carville penned an opinion piece calling for Democrats to “roll over and play dead,” betting that Trump and his party would ultimately\\n\\nSource: https://inthesetimes.com/article/bernie-sanders-donald-trump-state-of-the-union-oligarchy\\nTitle: \\nContent: We can win. We will win. Let’s go forward\\xa0together.  Bernie Sanders (I-Vt.) was elected to the U.S. Senate in 2006 after serving 16\\xa0years in the House of Representatives. He is the longest serving independent member of Congress in American history. Elected Mayor of Burlington, Vt., by 10 votes in 1981, he served four terms. Before his 1990 election as Vermont’s at-large member in Congress, Sanders lectured at the John F. Kennedy School of Government at Harvard and at Hamilton College in upstate New York. Read more at his website.  Have thoughts or reactions to this or any other piece that you'd like to share? Send us a note with the Letter to the Editor form.  More articles by Bernie Sanders  LaborViewpoint  Bernie Sanders to Big 3 CEOs: “It is time for you to end your greed.”\\n\",\n",
       " 'Source: https://apnews.ca/biography/bernie-sanders/\\nTitle: \\nContent: Who Is Bernie Sanders?\\nBernie Sanders, born in 1941, is a prominent American politician who has significantly shaped both local and national political landscapes. Sanders began his political career as the mayor of Burlington, Vermont, where he served four terms from 1981 to 1989. His tenure as mayor allowed him to distinguish himself as a progressive leader. He then transitioned to the national stage, securing a seat in the U.S. House of Representatives, where he served as one of the few independent legislators in the country. Sanders was elected to the U.S. Senate in 2006, a position he has held since, with successful reelection bids in 2012 and beyond.\\n\\nSource: https://apnews.ca/biography/bernie-sanders/\\nTitle: \\nContent: Menu Toggle  REAL ESTATE  BIOGRAPHY  PRESS RELEASES  Bernie SandersBy  Walter  /  November 9, 2024  Table of ContentsWho Is Bernie Sanders?Early Life and EducationBurlington Mayor and CongressmanSenator SandersPresidential AmbitionsTrademarks of His CampaignRecord-Breaking Online Grassroots FundraisingHistoric Michigan Primary VictoryDemocratic Primary Abroad Win and AIPAC AbsenceVisit to the VaticanThe DNC Platform and Endorsing ClintonDNC Email Leak2020 Presidential CampaignPersonal Life and Family\\nWho Is Bernie Sanders?\\n\\nSource: https://apnews.ca/biography/bernie-sanders/\\nTitle: \\nContent: Sanders gained momentum early, drawing substantial support from progressives, particularly following endorsements from key figures like Congresswoman Alexandria Ocasio-Cortez and members of the “Squad” — Ilhan Omar and Rashida Tlaib. Sanders initially surged in the primaries, emerging as a frontrunner after a victory in New Hampshire. However, former Vice President Joe Biden soon gained a commanding lead, and Sanders ultimately suspended his campaign on April 8, 2020, endorsing Biden for the Democratic nomination.\\nPersonal Life and Family\\nBernie Sanders’ personal life has been marked by both relationships and his commitment to public service. In 1964, he married Deborah Shiling, but the couple divorced two years later. Sanders met his second partner, Susan Mott, in 1968, with whom he had a son, Levi, in 1969.\\n\\nSource: https://apnews.ca/biography/bernie-sanders/\\nTitle: \\nContent: Burlington Mayor and Congressman\\nIn the 1970s, Bernie Sanders made several unsuccessful bids for public office as a member of the anti-war Liberty Union Party before departing the group in 1979. His first significant political victory came in 1981 when he was elected mayor of Burlington, Vermont, by a narrow margin of just 12 votes. Sanders’ win was facilitated by the support of the Progressive Coalition, a grassroots organization. He was reelected three more times, proving his enduring popularity and establishing his credibility as a self-described “democratic socialist.”\\n\\nSource: https://apnews.ca/biography/bernie-sanders/\\nTitle: \\nContent: During his tenure in the Senate, Sanders has served on several influential committees, including the Committee on the Budget, the Committee on Health, Education, Labor and Pensions, the Committee on Veterans Affairs, and the Joint Economic Committee. He has been a tireless advocate for campaign finance reform, championing efforts to overturn the Supreme Court’s Citizens United decision. Sanders has also worked extensively to expand voting rights, opposing efforts to dismantle critical provisions of the Voting Rights Act.\\nA strong proponent of universal, single-payer healthcare, Sanders has dedicated much of his legislative career to advancing policies aimed at protecting the environment and addressing climate change. As a member of both the Senate Committee on Environment & Public Works and the Energy & Natural Resources Committee, he continues to advocate for the transition to renewable energy sources and policies that safeguard the planet’s future.\\nPresidential Ambitions\\n']"
      ]
     },
     "execution_count": 5,
     "metadata": {},
     "output_type": "execute_result"
    }
   ],
   "source": [
    "from app.agents.search_agent import SearchAgent\n",
    "search_agent = SearchAgent()\n",
    "query = \"Who is Bernie Sanders?\"\n",
    "search_results = await search_agent.internet_search_context(query)\n",
    "search_results\n"
   ]
  },
  {
   "cell_type": "code",
   "execution_count": null,
   "metadata": {},
   "outputs": [],
   "source": []
  }
 ],
 "metadata": {
  "kernelspec": {
   "display_name": "deep-dive",
   "language": "python",
   "name": "python3"
  },
  "language_info": {
   "codemirror_mode": {
    "name": "ipython",
    "version": 3
   },
   "file_extension": ".py",
   "mimetype": "text/x-python",
   "name": "python",
   "nbconvert_exporter": "python",
   "pygments_lexer": "ipython3",
   "version": "3.12.9"
  }
 },
 "nbformat": 4,
 "nbformat_minor": 2
}
