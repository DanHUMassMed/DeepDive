{
 "cells": [
  {
   "cell_type": "code",
   "execution_count": null,
   "metadata": {},
   "outputs": [],
   "source": [
    "# System level imports\n",
    "import sys\n",
    "import os\n",
    "\n",
    "# ##### SET SYS PATH TO WHERE THE CODE IS. #####\n",
    "# my_local_development_dir/llm_analyst\n",
    "# Note: Putting our code first in the sys path will make sure it gets picked up\n",
    "llm_analyst_base_dir='/Users/dan/Code/LLM/DeepDive/backend'\n",
    "sys.path.insert(0, llm_analyst_base_dir)\n",
    "\n",
    "\n",
    "# Setting the USER_AGENT to fix warning with langchain_community code\n",
    "# WARNING:langchain_community.utils.user_agent:USER_AGENT\n",
    "user_agent = (\"Mozilla/5.0 (Windows NT 10.0; Win64; x64) AppleWebKit/537.36 \"\n",
    "              \"(KHTML, like Gecko) Chrome/119.0.0.0 Safari/537.36 Edg/119.0.0.0\")\n",
    "os.environ['USER_AGENT'] = user_agent"
   ]
  },
  {
   "cell_type": "code",
   "execution_count": null,
   "metadata": {},
   "outputs": [],
   "source": [
    "from ../backend/app/search_methods/inte import \n",
    "query = \"Python programming !w\"\n",
    "search_response = tavily_search(query, max_results=5)\n",
    "#Display the search results\n",
    "for result in search_response:\n",
    "    print(f\"Title: {result['title']}\")\n",
    "    print(f\"URL: {result['href']}\")\n",
    "    print(f\"Body: {result['body']}\\n\")\n",
    "    print(f\"Body len: {len(result['body'])}\\n\")\n",
    "    "
   ]
  }
 ],
 "metadata": {
  "kernelspec": {
   "display_name": "deep-dive",
   "language": "python",
   "name": "python3"
  },
  "language_info": {
   "name": "python",
   "version": "3.12.9"
  }
 },
 "nbformat": 4,
 "nbformat_minor": 2
}
