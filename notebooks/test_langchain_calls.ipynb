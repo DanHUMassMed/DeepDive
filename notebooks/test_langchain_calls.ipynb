{
 "cells": [
  {
   "cell_type": "code",
   "execution_count": 1,
   "metadata": {},
   "outputs": [],
   "source": [
    "# System level imports\n",
    "import sys\n",
    "import os\n",
    "\n",
    "# ##### SET SYS PATH TO WHERE THE CODE IS. #####\n",
    "# my_local_development_dir/llm_analyst\n",
    "# Note: Putting our code first in the sys path will make sure it gets picked up\n",
    "llm_analyst_base_dir='/Users/dan/Code/LLM/DeepDive/backend'\n",
    "sys.path.insert(0, llm_analyst_base_dir)\n",
    "\n",
    "\n",
    "# Setting the USER_AGENT to fix warning with langchain_community code\n",
    "# WARNING:langchain_community.utils.user_agent:USER_AGENT\n",
    "user_agent = (\"Mozilla/5.0 (Windows NT 10.0; Win64; x64) AppleWebKit/537.36 \"\n",
    "              \"(KHTML, like Gecko) Chrome/119.0.0.0 Safari/537.36 Edg/119.0.0.0\")\n",
    "os.environ['USER_AGENT'] = user_agent"
   ]
  },
  {
   "cell_type": "code",
   "execution_count": 2,
   "metadata": {},
   "outputs": [],
   "source": [
    "import os\n",
    "from duckduckgo_search import DDGS\n",
    "from tavily import TavilyClient\n",
    "\n",
    "def ddg_search(query, max_results=5):\n",
    "    \"\"\"DuckDuckGo is a free private search engine.\n",
    "    As of May 2024 DuckDuckGo is Free with no search limits\n",
    "    https://duckduckgo.com/\n",
    "    \n",
    "    NOTE: The results have been very good and I have been \n",
    "    using this as the default for much of the work\n",
    "    \"\"\"\n",
    "    search_response = []\n",
    "    try:\n",
    "        ddg = DDGS()\n",
    "        search_response = ddg.text(\n",
    "            query,\n",
    "            region=\"wt-wt\",\n",
    "            safesearch=\"off\",\n",
    "            timelimit=\"y\",\n",
    "            max_results=max_results,\n",
    "        )\n",
    "    except Exception as e:  # Fallback in case overload on Tavily Search API\n",
    "        print(f\"ddgs_search Error: {e}\")\n",
    "\n",
    "    return search_response"
   ]
  },
  {
   "cell_type": "code",
   "execution_count": 7,
   "metadata": {},
   "outputs": [
    {
     "data": {
      "text/plain": [
       "'Write 3 Google search queries to search online that form an objective opinion from the following task: who is the president of the US?\\nUse the current date if needed: March 07, 2025.\\nAlso include in the queries specified task details such as locations, names, etc.\\nYou MUST respond with a list of strings in the following format: [\"query 1\", \"query 2\", \"query 3\"].\\nThe response should contain ONLY the list.'"
      ]
     },
     "execution_count": 7,
     "metadata": {},
     "output_type": "execute_result"
    }
   ],
   "source": [
    "from datetime import datetime\n",
    "\n",
    "max_iterations=3\n",
    "datetime_now=datetime_now=datetime.now().strftime(\"%B %d, %Y\")\n",
    "task=\"who is the president of the US?\"\n",
    "query = (\n",
    "    f\"Write {max_iterations} Google search queries to search online that form an objective opinion from the following task: {task}\\n\"\n",
    "    f\"Use the current date if needed: {datetime_now}.\\n\"\n",
    "    f\"Also include in the queries specified task details such as locations, names, etc.\\n\"\n",
    "    f\"You MUST respond with a list of strings in the following format: [\\\"query 1\\\", \\\"query 2\\\", \\\"query 3\\\"].\\n\"\n",
    "    f\"The response should contain ONLY the list.\"\n",
    ")\n",
    "query"
   ]
  },
  {
   "cell_type": "code",
   "execution_count": 8,
   "metadata": {},
   "outputs": [],
   "source": [
    "\n",
    "tasks = [\"Who is the president-elect of the United States\", \"US presidential election 2024\", \"who will be the next US President\"]+[task]"
   ]
  },
  {
   "cell_type": "code",
   "execution_count": null,
   "metadata": {},
   "outputs": [],
   "source": []
  }
 ],
 "metadata": {
  "kernelspec": {
   "display_name": "deep-dive",
   "language": "python",
   "name": "python3"
  },
  "language_info": {
   "codemirror_mode": {
    "name": "ipython",
    "version": 3
   },
   "file_extension": ".py",
   "mimetype": "text/x-python",
   "name": "python",
   "nbconvert_exporter": "python",
   "pygments_lexer": "ipython3",
   "version": "3.12.9"
  }
 },
 "nbformat": 4,
 "nbformat_minor": 2
}
