{
 "cells": [
  {
   "cell_type": "code",
   "execution_count": 19,
   "metadata": {},
   "outputs": [],
   "source": [
    "import requests\n",
    "import json\n",
    "\n",
    "def api_request(method, url, data=None):\n",
    "    try:\n",
    "        # Make the HTTP request based on the method type\n",
    "        if method == \"get\":\n",
    "            response = requests.get(url)\n",
    "        elif method == \"post\":\n",
    "            response = requests.post(url, json=data)\n",
    "        elif method == \"put\":\n",
    "            response = requests.put(url, json=data)\n",
    "        elif method == \"delete\":\n",
    "            response = requests.delete(url, json=data)\n",
    "        else:\n",
    "            raise ValueError(\"Unsupported HTTP method\")\n",
    "\n",
    "        # Raise an exception if the request was unsuccessful\n",
    "        response.raise_for_status()\n",
    "        \n",
    "        # Parse and pretty-print the response as JSON\n",
    "        data = response.json()\n",
    "        print(json.dumps(data, indent=4))\n",
    "    \n",
    "    except requests.exceptions.HTTPError as http_err:\n",
    "        print(f\"HTTP error occurred: {http_err}\")\n",
    "        # If the response contains a JSON body or text, print it like this:\n",
    "        if http_err.response is not None:\n",
    "            try:\n",
    "                print(f\"Response content: {http_err.response.json()}\")  # If it's a JSON response\n",
    "            except ValueError:  # If response isn't JSON\n",
    "                print(f\"Response content: {http_err.response.text}\")  # Fall back to plain text\n",
    "\n",
    "    except Exception as err:\n",
    "        print(f\"Other error occurred: {err}\")\n"
   ]
  },
  {
   "cell_type": "markdown",
   "metadata": {},
   "source": [
    "# Utility Calls"
   ]
  },
  {
   "cell_type": "code",
   "execution_count": null,
   "metadata": {},
   "outputs": [],
   "source": [
    "# Get Available Models\n",
    "url = \"http://localhost:8000/ollama/available-models\"\n",
    "\n",
    "api_request(\"get\", url)"
   ]
  },
  {
   "cell_type": "markdown",
   "metadata": {},
   "source": [
    "# Chat History Item Calls"
   ]
  },
  {
   "cell_type": "code",
   "execution_count": 9,
   "metadata": {},
   "outputs": [],
   "source": [
    "PREFIX = \"chat-history\"\n",
    "BASE_URL= f\"http://localhost:8000/{PREFIX}\""
   ]
  },
  {
   "cell_type": "code",
   "execution_count": null,
   "metadata": {},
   "outputs": [],
   "source": [
    "# \"\"\"Return a list of chat history items for the given project_id.\"\"\"\n",
    "project_id=\"my-new-project\"\n",
    "url = f\"{BASE_URL}/{project_id}/items\"\n",
    "print(url)\n",
    "api_request(\"get\", url)"
   ]
  },
  {
   "cell_type": "code",
   "execution_count": null,
   "metadata": {},
   "outputs": [],
   "source": [
    "#  \"\"\"Delete all chat history items for the given project_id.\"\"\"\n",
    "\n",
    "project_id=\"my-new-project\"\n",
    "url = f\"{BASE_URL}/{project_id}/items\"\n",
    "print(url)\n",
    "api_request(\"delete\", url)"
   ]
  },
  {
   "cell_type": "code",
   "execution_count": 10,
   "metadata": {},
   "outputs": [
    {
     "name": "stdout",
     "output_type": "stream",
     "text": [
      "http://localhost:8000/chat-history/my-new-project/active-chat\n",
      "{\n",
      "    \"project_id\": \"my-new-project\",\n",
      "    \"chat_id\": \"c10479d4-c1fa-405d-aac2-a6d7853d91dc\",\n",
      "    \"chat_start_date\": \"2025-02-28 10:19:58 AM\",\n",
      "    \"chat_title\": \"Chat on 2025-02-28 10:19:58 AM\",\n",
      "    \"chat_llm_name\": \"deepseek-r1:32b\",\n",
      "    \"active_chat\": true\n",
      "}\n"
     ]
    }
   ],
   "source": [
    "# \"\"\"Return the active chat history item for the given project_id.\"\"\"\n",
    "\n",
    "project_id=\"my-new-project\"\n",
    "url = f\"{BASE_URL}/{project_id}/active-chat\"\n",
    "print(url)\n",
    "api_request(\"get\", url)"
   ]
  },
  {
   "cell_type": "code",
   "execution_count": null,
   "metadata": {},
   "outputs": [],
   "source": [
    "# \"\"\" Set the provided chat as the active chat and ensure all other chats are set to inactive\"\"\"\n",
    "# \"\"\"Return the active chat history item for the given project_id.\"\"\"\n",
    "\n",
    "project_id=\"my-new-project\"\n",
    "chat_id = \"57132c50-ea95-4b4e-b9d4-548e4ed6ff11\"\n",
    "url = f\"{BASE_URL}/{project_id}/active-chat/{chat_id}\"\n",
    "print(url)\n",
    "\n",
    "api_request(\"put\", url)"
   ]
  },
  {
   "cell_type": "code",
   "execution_count": null,
   "metadata": {},
   "outputs": [],
   "source": [
    "# \"\"\"Add a new chat history item to the list and set as the active_chat=True.\"\"\"\n",
    "data = {'project_id': 'my-new-project'}\n",
    "\n",
    "project_id=\"my-new-project\"\n",
    "url = f\"{BASE_URL}/{project_id}/item\"\n",
    "print(url)\n",
    "\n",
    "api_request(\"post\", url, data)\n"
   ]
  },
  {
   "cell_type": "code",
   "execution_count": null,
   "metadata": {},
   "outputs": [],
   "source": [
    "# \"\"\"Update an existing chat history item title.\"\"\"\n",
    "data = {'project_id': 'my-new-project',\n",
    "        'chat_id': 'b25d7132-9e46-403c-977e-39e292591f4f',\n",
    "        'chat_title':'New Title'}\n",
    "\n",
    "project_id=\"my-new-project\"\n",
    "url = f\"{BASE_URL}/{project_id}/item/{data['chat_id']}/title\"\n",
    "print(url)\n",
    "\n",
    "api_request(\"put\", url, data)"
   ]
  },
  {
   "cell_type": "code",
   "execution_count": null,
   "metadata": {},
   "outputs": [],
   "source": [
    "# \"\"\"Delete a specific chat history item by chat_id and return status\"\"\"\n",
    "project_id=\"my-new-project\"\n",
    "chat_id=\"b25d7132-9e46-403c-977e-39e292591f4f\"\n",
    "url = f\"http://localhost:8000/chat-history/{project_id}/item/{chat_id}\"\n",
    "\n",
    "api_request(\"delete\", url)"
   ]
  },
  {
   "cell_type": "markdown",
   "metadata": {},
   "source": [
    "# ProjectState Calls"
   ]
  },
  {
   "cell_type": "code",
   "execution_count": 7,
   "metadata": {},
   "outputs": [],
   "source": [
    "PREFIX = \"projects\"\n",
    "BASE_URL= f\"http://localhost:8000/{PREFIX}\""
   ]
  },
  {
   "cell_type": "code",
   "execution_count": null,
   "metadata": {},
   "outputs": [],
   "source": [
    "#  \"\"\"Create a new project state item to the Project list.\"\"\"\n",
    "# Takes a ProjectStateItem\n",
    "\n",
    "data = {'project_name': 'my-new-project',\n",
    "             'project_llm_name':'deepseek-r1:32b',\n",
    "             'project_data_dir':'/User/home/amy'}\n",
    "\n",
    "url = f\"{BASE_URL}/state\"\n",
    "print(url)\n",
    "\n",
    "api_request(\"post\", url, data)"
   ]
  },
  {
   "cell_type": "code",
   "execution_count": 8,
   "metadata": {},
   "outputs": [
    {
     "name": "stdout",
     "output_type": "stream",
     "text": [
      "http://localhost:8000/projects/my-new-project/state\n",
      "{\n",
      "    \"project_name\": \"my-new-project\",\n",
      "    \"project_start_date\": \"2025-02-28 09:17:27 AM\",\n",
      "    \"project_llm_name\": \"deepseek-r1:32b\",\n",
      "    \"project_system_prompt\": \"Answer all questions to the best of your ability. Answer concisely but correctly. If you do not know the answer, just say 'I don\\u2019t know.'\",\n",
      "    \"project_data_dir\": \"/User/home/amy\",\n",
      "    \"project_data_toggle\": false\n",
      "}\n"
     ]
    }
   ],
   "source": [
    "# \"\"\"Get a project state item for the given project_id.\"\"\"\n",
    "\n",
    "project_id=\"my-new-project\"\n",
    "url = f\"{BASE_URL}/{project_id}/state\"\n",
    "print(url)\n",
    "\n",
    "api_request(\"get\", url)"
   ]
  },
  {
   "cell_type": "code",
   "execution_count": null,
   "metadata": {},
   "outputs": [],
   "source": [
    "# \"\"\"Update a project state item that is in the list.\"\"\"\n",
    "\n",
    "data = {'project_name': 'my-new-project',\n",
    "             'project_llm_name':'deepseek-r1:610b',\n",
    "             'project_data_dir':'/User/home/dan'}\n",
    "\n",
    "project_id = 'my-new-project'\n",
    "url = f\"{BASE_URL}/{project_id}/state\"\n",
    "print(url)\n",
    "\n",
    "api_request(\"put\", url, data)"
   ]
  },
  {
   "cell_type": "code",
   "execution_count": null,
   "metadata": {},
   "outputs": [],
   "source": [
    "# \"\"\"Delete project state item for the given project_id.\"\"\"\n",
    "\n",
    "project_id=\"my-new-project\"\n",
    "url = f\"{BASE_URL}/{project_id}/state\"\n",
    "print(url)\n",
    "\n",
    "api_request(\"delete\", url)"
   ]
  },
  {
   "cell_type": "code",
   "execution_count": null,
   "metadata": {},
   "outputs": [],
   "source": [
    "\"\"\"Get an existing project state item if found, and return chat_history_timestamp\"\"\"\n",
    "\n",
    "project_id=\"my-new-project\"\n",
    "url = f\"{BASE_URL}/{project_id}/timestamp\"\n",
    "print(url)\n",
    "\n",
    "api_request(\"get\", url)"
   ]
  },
  {
   "cell_type": "markdown",
   "metadata": {},
   "source": [
    "# Chat Calls"
   ]
  },
  {
   "cell_type": "code",
   "execution_count": 20,
   "metadata": {},
   "outputs": [],
   "source": [
    "PREFIX = \"chat\"\n",
    "BASE_URL= f\"http://localhost:8000/{PREFIX}\""
   ]
  },
  {
   "cell_type": "code",
   "execution_count": 22,
   "metadata": {},
   "outputs": [
    {
     "name": "stdout",
     "output_type": "stream",
     "text": [
      "http://localhost:8000/chat/deep-dive/interactions/c280103e-c807-48fb-986a-c302b43e1bea\n",
      "[\n",
      "    {\n",
      "        \"type\": \"user\",\n",
      "        \"content\": \"hello my names is dan\"\n",
      "    },\n",
      "    {\n",
      "        \"type\": \"user\",\n",
      "        \"content\": \"hello my names is dan\"\n",
      "    },\n",
      "    {\n",
      "        \"type\": \"ai\",\n",
      "        \"content\": \"<think>\\nOkay, so I received a message from someone named Dan who wrote \\\"hello my names is dan\\\" twice. Hmm, that's interesting. First off, I notice that he used \\\"names\\\" instead of \\\"name,\\\" which might be a typo or maybe it's intentional for some reason. But generally, people make typos when they're in a hurry or not paying attention.\\n\\nI should start by acknowledging his message politely. Maybe say hello back and ask how I can assist him today. That way, he knows I'm here to help. Also, since he repeated the same line twice, perhaps he's testing me or just made an error. I shouldn't assume anything negative; it's better to be friendly.\\n\\nI should make sure my response is clear and inviting so that Dan feels comfortable asking whatever he needs help with. Maybe add a smiley emoji to keep it warm. Yeah, something like: \\\"Hello Dan! How can I assist you today? \\ud83d\\ude0a\\\" That sounds good.\\n</think>\\n\\nHello Dan! How can I assist you today? \\ud83d\\ude0a\"\n",
      "    },\n",
      "    {\n",
      "        \"type\": \"user\",\n",
      "        \"content\": \"hello my names is dan\"\n",
      "    },\n",
      "    {\n",
      "        \"type\": \"user\",\n",
      "        \"content\": \"hello my names is dan\"\n",
      "    },\n",
      "    {\n",
      "        \"type\": \"ai\",\n",
      "        \"content\": \"<think>\\nOkay, so the user named Dan has sent me two identical messages: \\\"hello my names is dan.\\\" The first thing I notice is that he used \\\"names\\\" instead of \\\"name,\\\" which might be a typo. It's possible he meant to say his name but made an error.\\n\\nI need to respond in a friendly and encouraging manner to make him feel comfortable asking for help. Acknowledging his message with a greeting and offering assistance seems appropriate. I should keep the tone positive and open-ended so that Dan feels encouraged to provide more details about what he needs help with.\\n\\nI might also consider if there's any deeper reason behind the repetition, but without additional context, it's best not to assume anything beyond a simple typo or error.\\n</think>\\n\\nHello Dan! How can I assist you today? \\ud83d\\ude0a\"\n",
      "    },\n",
      "    {\n",
      "        \"type\": \"user\",\n",
      "        \"content\": \"hello my names is dan\"\n",
      "    },\n",
      "    {\n",
      "        \"type\": \"ai\",\n",
      "        \"content\": \"<think>\\nOkay, so the user has sent me another message saying  \\\"hello my names is dan.\\\" This seems repetitive, which might indicate that he's trying to get my attention or perhaps there was an issue with his previous messages not being processed correctly.\\n \\nI should respond in a way that acknowledges his message and invites him to ask for help. It's important to be friendly and approachable to encourage further interaction. I don't want to assume any negative intent, so keeping the response positive is key.\\n \\nMaybe I'll greet him again and offer assistance, similar to before but ensuring it feels natural and not repetitive on my end. This way, he knows I'm here to help whenever he's ready.\\n</think>\\nHello Dan! How can I assist you today? \\ud83d\\ude0a\"\n",
      "    },\n",
      "    {\n",
      "        \"type\": \"user\",\n",
      "        \"content\": \"hello my names is dan\"\n",
      "    },\n",
      "    {\n",
      "        \"type\": \"ai\",\n",
      "        \"content\": \"<think>\\nOkay, the user named Dan has sent the same message again:  \\\"hello my names is dan.\\\" It seems like he might be having trouble getting through or perhaps there's a technical issue with his device. Maybe he's trying to confirm that I received his previous messages.\\n\\nI should respond warmly, acknowledging his greeting and offering help in a friendly manner. It's important to make him feel heard and encourage him to provide more details about what he needs assistance with. Keeping the response open-ended will allow Dan to specify his request clearly.\\n\\nI might also consider if there's any confusion or language barrier that's causing the repetition, but without further information, it's best to stay positive and supportive in my reply.\\n</think>\\n\\nHello Dan! How can I assist you today? \\ud83d\\ude0a\"\n",
      "    },\n",
      "    {\n",
      "        \"type\": \"user\",\n",
      "        \"content\": \"write a hello world program\"\n",
      "    },\n",
      "    {\n",
      "        \"type\": \"user\",\n",
      "        \"content\": \"write a hello world program\"\n",
      "    },\n",
      "    {\n",
      "        \"type\": \"ai\",\n",
      "        \"content\": \"<think>\\nAlright, so the user is asking for a \\\"hello world\\\" program. That's a classic first program for most programming languages. Since he didn't specify which language to use, I should probably choose one that's commonly used and easy to understand. Python comes to mind because it's straightforward and widely taught.\\n\\nI need to make sure the response is clear and helpful. Including an example code snippet would be useful. Also, explaining what each part does could help someone who's new to programming understand better. Maybe mention how to run the program if they're using a computer with Python installed.\\n\\nI should keep it simple but informative. Make sure the code actually works so the user can copy-paste and see the result without issues. Oh, and adding some context about why \\\"hello world\\\" is significant in programming might add value for someone just starting out.\\n</think>\\n\\nSure! Here's a simple \\\"Hello World!\\\" program in Python:\\n\\n```python\\nprint(\\\"Hello, World!\\\")\\n```\\n\\nJust save this as `hello.py` and run it using Python. The output will be:\\n\\n```\\nHello, World!\\n```\\n\\nLet me know if you'd like an example in another programming language!\"\n",
      "    },\n",
      "    {\n",
      "        \"type\": \"user\",\n",
      "        \"content\": \"write a hello world program\"\n",
      "    },\n",
      "    {\n",
      "        \"type\": \"user\",\n",
      "        \"content\": \"write a hello world program\"\n",
      "    },\n",
      "    {\n",
      "        \"type\": \"user\",\n",
      "        \"content\": \"write a hello world program\"\n",
      "    },\n",
      "    {\n",
      "        \"type\": \"user\",\n",
      "        \"content\": \"write a hello world program\"\n",
      "    },\n",
      "    {\n",
      "        \"type\": \"user\",\n",
      "        \"content\": \"write a hello world program\"\n",
      "    },\n",
      "    {\n",
      "        \"type\": \"user\",\n",
      "        \"content\": \"write a hello world program\"\n",
      "    },\n",
      "    {\n",
      "        \"type\": \"user\",\n",
      "        \"content\": \"write a hello world program\"\n",
      "    },\n",
      "    {\n",
      "        \"type\": \"user\",\n",
      "        \"content\": \"write a hello world program\"\n",
      "    },\n",
      "    {\n",
      "        \"type\": \"user\",\n",
      "        \"content\": \"write a hello world program\"\n",
      "    },\n",
      "    {\n",
      "        \"type\": \"user\",\n",
      "        \"content\": \"write a hello world program\"\n",
      "    },\n",
      "    {\n",
      "        \"type\": \"user\",\n",
      "        \"content\": \"write a hello world program\"\n",
      "    },\n",
      "    {\n",
      "        \"type\": \"user\",\n",
      "        \"content\": \"write a hello world program\"\n",
      "    },\n",
      "    {\n",
      "        \"type\": \"user\",\n",
      "        \"content\": \"write a hello world program\"\n",
      "    },\n",
      "    {\n",
      "        \"type\": \"user\",\n",
      "        \"content\": \"write a program hello world\"\n",
      "    },\n",
      "    {\n",
      "        \"type\": \"user\",\n",
      "        \"content\": \"what is my name\"\n",
      "    },\n",
      "    {\n",
      "        \"type\": \"ai\",\n",
      "        \"content\": \"<think>\\nThe user has repeatedly asked for a \\\"hello world\\\" program multiple times, which suggests they might be testing the system or have connectivity issues. Additionally, they've now asked,  \\\"what is my name.\\\" Earlier in the conversation, the user introduced themselves as Dan. So, based on that context, I can respond to their latest query by referring back to their previous message where they mentioned their name.\\n \\nI need to ensure that my response is accurate and acknowledges their earlier introduction. This way, it shows that I'm paying attention to our conversation history, which can help build trust and provide a better user experience. It's important to be clear and straightforward in my reply without making assumptions beyond the information provided.\\n</think>\\nYour name is Dan! \\ud83d\\ude0a\"\n",
      "    },\n",
      "    {\n",
      "        \"type\": \"user\",\n",
      "        \"content\": \"what is your name\"\n",
      "    },\n",
      "    {\n",
      "        \"type\": \"ai\",\n",
      "        \"content\": \"<think>\\nAlright, so the user asked me,  \\\"what is your name.\\\" I need to respond appropriately by letting them know my name is DeepSeek-R1-Lite-Preview. It's important to be clear and concise in my response.\\n \\nI should make sure to keep it friendly and approachable, offering further assistance if needed. This helps maintain a positive interaction with the user. Also, it's good practice to invite them to ask more questions or seek help with anything else they might have in mind.\\n\\nI'll structure my response to first state my name and then offer assistance, ensuring it's helpful and welcoming.\\n</think>\\nMy name is DeepSeek-R1-Lite-Preview! How can I assist you today? \\ud83d\\ude0a\"\n",
      "    }\n",
      "]\n"
     ]
    }
   ],
   "source": [
    "\"\"\"Get in\"\"\"\n",
    "project_id=\"deep-dive\"\n",
    "chat_id=\"c280103e-c807-48fb-986a-c302b43e1bea\"\n",
    "url = f\"{BASE_URL}/{project_id}/interactions/{chat_id}\"\n",
    "print(url)\n",
    "\n",
    "api_request(\"get\", url)"
   ]
  },
  {
   "cell_type": "markdown",
   "metadata": {},
   "source": [
    "# Chat Websocket"
   ]
  },
  {
   "cell_type": "code",
   "execution_count": 17,
   "metadata": {},
   "outputs": [],
   "source": [
    "import websockets\n",
    "import asyncio\n",
    "import requests\n",
    "\n",
    "async def test_websocket(connection_id):\n",
    "    uri = f\"ws://localhost:8000/chat/ws/{connection_id}\"\n",
    "    async with websockets.connect(uri) as websocket:\n",
    "        await websocket.send(\"Hello my name is Dan\")\n",
    "        async for message in websocket:\n",
    "            print(f\"{message}\", end=\"\")\n",
    "\n",
    "# Function to cancel connection\n",
    "def cancel_websocket_connection(connection_id):\n",
    "    url = f\"http://localhost:8000/chat/cancel/{connection_id}\"\n",
    "    response = requests.post(url)\n",
    "    print(response.json())"
   ]
  },
  {
   "cell_type": "code",
   "execution_count": 18,
   "metadata": {},
   "outputs": [
    {
     "data": {
      "text/plain": [
       "<Task pending name='Task-13' coro=<test_websocket() running at /var/folders/jq/7cv336vx66v_c3vj7vwrpt6c0000gn/T/ipykernel_76394/541139859.py:5>>"
      ]
     },
     "execution_count": 18,
     "metadata": {},
     "output_type": "execute_result"
    },
    {
     "name": "stdout",
     "output_type": "stream",
     "text": [
      "It's great to see you're thinking back to our previous conversation. How's your day going so far, Dan?[DONE]Streaming complete, closing connection."
     ]
    }
   ],
   "source": [
    "# Run the WebSocket client in the background\n",
    "connection_id=\"deep-dive\"\n",
    "asyncio.create_task(test_websocket(connection_id))"
   ]
  },
  {
   "cell_type": "code",
   "execution_count": 3,
   "metadata": {},
   "outputs": [
    {
     "name": "stdout",
     "output_type": "stream",
     "text": [
      "{'status': 'SUCCESS', 'message': 'Connection test_connection canceled.'}\n"
     ]
    }
   ],
   "source": [
    "# Test sending a cancel request\n",
    "connection_id=\"test_connection\"\n",
    "cancel_websocket_connection(connection_id)"
   ]
  },
  {
   "cell_type": "code",
   "execution_count": null,
   "metadata": {},
   "outputs": [],
   "source": []
  }
 ],
 "metadata": {
  "kernelspec": {
   "display_name": "deep-dive",
   "language": "python",
   "name": "python3"
  },
  "language_info": {
   "codemirror_mode": {
    "name": "ipython",
    "version": 3
   },
   "file_extension": ".py",
   "mimetype": "text/x-python",
   "name": "python",
   "nbconvert_exporter": "python",
   "pygments_lexer": "ipython3",
   "version": "3.12.9"
  }
 },
 "nbformat": 4,
 "nbformat_minor": 2
}
