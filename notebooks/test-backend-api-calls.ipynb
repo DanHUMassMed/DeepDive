{
 "cells": [
  {
   "cell_type": "code",
   "execution_count": 1,
   "metadata": {},
   "outputs": [],
   "source": [
    "import requests\n",
    "import json\n",
    "\n",
    "def api_request(method, url, data=None):\n",
    "    try:\n",
    "        # Make the HTTP request based on the method type\n",
    "        if method == \"get\":\n",
    "            response = requests.get(url)\n",
    "        elif method == \"post\":\n",
    "            response = requests.post(url, json=data)\n",
    "        elif method == \"put\":\n",
    "            response = requests.put(url, json=data)\n",
    "        elif method == \"delete\":\n",
    "            response = requests.delete(url, json=data)\n",
    "        else:\n",
    "            raise ValueError(\"Unsupported HTTP method\")\n",
    "\n",
    "        # Raise an exception if the request was unsuccessful\n",
    "        response.raise_for_status()\n",
    "        \n",
    "        # Parse and pretty-print the response as JSON\n",
    "        data = response.json()\n",
    "        print(json.dumps(data, indent=4))\n",
    "    \n",
    "    except requests.exceptions.HTTPError as http_err:\n",
    "        print(f\"HTTP error occurred: {http_err}\")\n",
    "        # If the response contains a JSON body or text, print it like this:\n",
    "        if http_err.response is not None:\n",
    "            try:\n",
    "                print(f\"Response content: {http_err.response.json()}\")  # If it's a JSON response\n",
    "            except ValueError:  # If response isn't JSON\n",
    "                print(f\"Response content: {http_err.response.text}\")  # Fall back to plain text\n",
    "\n",
    "    except Exception as err:\n",
    "        print(f\"Other error occurred: {err}\")\n"
   ]
  },
  {
   "cell_type": "code",
   "execution_count": null,
   "metadata": {},
   "outputs": [],
   "source": [
    "\n"
   ]
  },
  {
   "cell_type": "markdown",
   "metadata": {},
   "source": [
    "# Utility Calls"
   ]
  },
  {
   "cell_type": "code",
   "execution_count": null,
   "metadata": {},
   "outputs": [],
   "source": [
    "# Get Available Models\n",
    "url = \"http://localhost:8000/ollama/available-models\"\n",
    "\n",
    "api_request(\"get\", url)"
   ]
  },
  {
   "cell_type": "markdown",
   "metadata": {},
   "source": [
    "# Chat History Item Calls"
   ]
  },
  {
   "cell_type": "code",
   "execution_count": 9,
   "metadata": {},
   "outputs": [],
   "source": [
    "PREFIX = \"chat-history\"\n",
    "BASE_URL= f\"http://localhost:8000/{PREFIX}\""
   ]
  },
  {
   "cell_type": "code",
   "execution_count": null,
   "metadata": {},
   "outputs": [],
   "source": [
    "# \"\"\"Return a list of chat history items for the given project_id.\"\"\"\n",
    "project_id=\"my-new-project\"\n",
    "url = f\"{BASE_URL}/{project_id}/items\"\n",
    "print(url)\n",
    "api_request(\"get\", url)"
   ]
  },
  {
   "cell_type": "code",
   "execution_count": null,
   "metadata": {},
   "outputs": [],
   "source": [
    "#  \"\"\"Delete all chat history items for the given project_id.\"\"\"\n",
    "\n",
    "project_id=\"my-new-project\"\n",
    "url = f\"{BASE_URL}/{project_id}/items\"\n",
    "print(url)\n",
    "api_request(\"delete\", url)"
   ]
  },
  {
   "cell_type": "code",
   "execution_count": 10,
   "metadata": {},
   "outputs": [
    {
     "name": "stdout",
     "output_type": "stream",
     "text": [
      "http://localhost:8000/chat-history/my-new-project/active-chat\n",
      "{\n",
      "    \"project_id\": \"my-new-project\",\n",
      "    \"chat_id\": \"c10479d4-c1fa-405d-aac2-a6d7853d91dc\",\n",
      "    \"chat_start_date\": \"2025-02-28 10:19:58 AM\",\n",
      "    \"chat_title\": \"Chat on 2025-02-28 10:19:58 AM\",\n",
      "    \"chat_llm_name\": \"deepseek-r1:32b\",\n",
      "    \"active_chat\": true\n",
      "}\n"
     ]
    }
   ],
   "source": [
    "# \"\"\"Return the active chat history item for the given project_id.\"\"\"\n",
    "\n",
    "project_id=\"my-new-project\"\n",
    "url = f\"{BASE_URL}/{project_id}/active-chat\"\n",
    "print(url)\n",
    "api_request(\"get\", url)"
   ]
  },
  {
   "cell_type": "code",
   "execution_count": null,
   "metadata": {},
   "outputs": [],
   "source": [
    "# \"\"\" Set the provided chat as the active chat and ensure all other chats are set to inactive\"\"\"\n",
    "# \"\"\"Return the active chat history item for the given project_id.\"\"\"\n",
    "\n",
    "project_id=\"my-new-project\"\n",
    "chat_id = \"57132c50-ea95-4b4e-b9d4-548e4ed6ff11\"\n",
    "url = f\"{BASE_URL}/{project_id}/active-chat/{chat_id}\"\n",
    "print(url)\n",
    "\n",
    "api_request(\"put\", url)"
   ]
  },
  {
   "cell_type": "code",
   "execution_count": null,
   "metadata": {},
   "outputs": [],
   "source": [
    "# \"\"\"Add a new chat history item to the list and set as the active_chat=True.\"\"\"\n",
    "data = {'project_id': 'my-new-project'}\n",
    "\n",
    "project_id=\"my-new-project\"\n",
    "url = f\"{BASE_URL}/{project_id}/item\"\n",
    "print(url)\n",
    "\n",
    "api_request(\"post\", url, data)\n"
   ]
  },
  {
   "cell_type": "code",
   "execution_count": null,
   "metadata": {},
   "outputs": [],
   "source": [
    "# \"\"\"Update an existing chat history item title.\"\"\"\n",
    "data = {'project_id': 'my-new-project',\n",
    "        'chat_id': 'b25d7132-9e46-403c-977e-39e292591f4f',\n",
    "        'chat_title':'New Title'}\n",
    "\n",
    "project_id=\"my-new-project\"\n",
    "url = f\"{BASE_URL}/{project_id}/item/{data['chat_id']}/title\"\n",
    "print(url)\n",
    "\n",
    "api_request(\"put\", url, data)"
   ]
  },
  {
   "cell_type": "code",
   "execution_count": null,
   "metadata": {},
   "outputs": [],
   "source": [
    "# \"\"\"Delete a specific chat history item by chat_id and return status\"\"\"\n",
    "project_id=\"my-new-project\"\n",
    "chat_id=\"b25d7132-9e46-403c-977e-39e292591f4f\"\n",
    "url = f\"http://localhost:8000/chat-history/{project_id}/item/{chat_id}\"\n",
    "\n",
    "api_request(\"delete\", url)"
   ]
  },
  {
   "cell_type": "markdown",
   "metadata": {},
   "source": [
    "# ProjectState Calls"
   ]
  },
  {
   "cell_type": "code",
   "execution_count": 7,
   "metadata": {},
   "outputs": [],
   "source": [
    "PREFIX = \"projects\"\n",
    "BASE_URL= f\"http://localhost:8000/{PREFIX}\""
   ]
  },
  {
   "cell_type": "code",
   "execution_count": null,
   "metadata": {},
   "outputs": [],
   "source": [
    "#  \"\"\"Create a new project state item to the Project list.\"\"\"\n",
    "# Takes a ProjectStateItem\n",
    "\n",
    "data = {'project_name': 'my-new-project',\n",
    "             'project_llm_name':'deepseek-r1:32b',\n",
    "             'project_data_dir':'/User/home/amy'}\n",
    "\n",
    "url = f\"{BASE_URL}/state\"\n",
    "print(url)\n",
    "\n",
    "api_request(\"post\", url, data)"
   ]
  },
  {
   "cell_type": "code",
   "execution_count": 8,
   "metadata": {},
   "outputs": [
    {
     "name": "stdout",
     "output_type": "stream",
     "text": [
      "http://localhost:8000/projects/my-new-project/state\n",
      "{\n",
      "    \"project_name\": \"my-new-project\",\n",
      "    \"project_start_date\": \"2025-02-28 09:17:27 AM\",\n",
      "    \"project_llm_name\": \"deepseek-r1:32b\",\n",
      "    \"project_system_prompt\": \"Answer all questions to the best of your ability. Answer concisely but correctly. If you do not know the answer, just say 'I don\\u2019t know.'\",\n",
      "    \"project_data_dir\": \"/User/home/amy\",\n",
      "    \"project_data_toggle\": false\n",
      "}\n"
     ]
    }
   ],
   "source": [
    "# \"\"\"Get a project state item for the given project_id.\"\"\"\n",
    "\n",
    "project_id=\"my-new-project\"\n",
    "url = f\"{BASE_URL}/{project_id}/state\"\n",
    "print(url)\n",
    "\n",
    "api_request(\"get\", url)"
   ]
  },
  {
   "cell_type": "code",
   "execution_count": null,
   "metadata": {},
   "outputs": [],
   "source": [
    "# \"\"\"Update a project state item that is in the list.\"\"\"\n",
    "\n",
    "data = {'project_name': 'my-new-project',\n",
    "             'project_llm_name':'deepseek-r1:610b',\n",
    "             'project_data_dir':'/User/home/dan'}\n",
    "\n",
    "project_id = 'my-new-project'\n",
    "url = f\"{BASE_URL}/{project_id}/state\"\n",
    "print(url)\n",
    "\n",
    "api_request(\"put\", url, data)"
   ]
  },
  {
   "cell_type": "code",
   "execution_count": null,
   "metadata": {},
   "outputs": [],
   "source": [
    "# \"\"\"Delete project state item for the given project_id.\"\"\"\n",
    "\n",
    "project_id=\"my-new-project\"\n",
    "url = f\"{BASE_URL}/{project_id}/state\"\n",
    "print(url)\n",
    "\n",
    "api_request(\"delete\", url)"
   ]
  },
  {
   "cell_type": "code",
   "execution_count": null,
   "metadata": {},
   "outputs": [],
   "source": [
    "\"\"\"Get an existing project state item if found, and return chat_history_timestamp\"\"\"\n",
    "\n",
    "project_id=\"my-new-project\"\n",
    "url = f\"{BASE_URL}/{project_id}/timestamp\"\n",
    "print(url)\n",
    "\n",
    "api_request(\"get\", url)"
   ]
  },
  {
   "cell_type": "markdown",
   "metadata": {},
   "source": [
    "# Chat Calls"
   ]
  },
  {
   "cell_type": "code",
   "execution_count": 1,
   "metadata": {},
   "outputs": [],
   "source": [
    "PREFIX = \"chat\"\n",
    "BASE_URL= f\"http://localhost:8000/{PREFIX}\""
   ]
  },
  {
   "cell_type": "code",
   "execution_count": 5,
   "metadata": {},
   "outputs": [
    {
     "name": "stdout",
     "output_type": "stream",
     "text": [
      "http://localhost:8000/chat/deep-dive/interactions/06bea2f8-ad19-43ce-aa0b-0f0a94509473\n",
      "[\n",
      "    {\n",
      "        \"type\": \"user\",\n",
      "        \"content\": \"hello\"\n",
      "    },\n",
      "    {\n",
      "        \"type\": \"ai\",\n",
      "        \"content\": \"Hello. How can I help you today?\"\n",
      "    }\n",
      "]\n"
     ]
    }
   ],
   "source": [
    "\"\"\"Get in\"\"\"\n",
    "project_id=\"deep-dive\"\n",
    "chat_id=\"06bea2f8-ad19-43ce-aa0b-0f0a94509473\"\n",
    "url = f\"{BASE_URL}/{project_id}/interactions/{chat_id}\"\n",
    "print(url)\n",
    "\n",
    "api_request(\"get\", url)"
   ]
  },
  {
   "cell_type": "code",
   "execution_count": 9,
   "metadata": {},
   "outputs": [
    {
     "name": "stdout",
     "output_type": "stream",
     "text": [
      "http://localhost:8000/chat/deep-dive/interactions_count/06bea2f8-ad19-43ce-aa0b-0f0a94509473\n",
      "1\n"
     ]
    }
   ],
   "source": [
    "\"\"\"Get in\"\"\"\n",
    "project_id=\"deep-dive\"\n",
    "chat_id=\"06bea2f8-ad19-43ce-aa0b-0f0a94509473\"\n",
    "url = f\"{BASE_URL}/{project_id}/interactions_count/{chat_id}\"\n",
    "print(url)\n",
    "\n",
    "api_request(\"get\", url)"
   ]
  },
  {
   "cell_type": "markdown",
   "metadata": {},
   "source": [
    "# Chat Websocket"
   ]
  },
  {
   "cell_type": "code",
   "execution_count": 2,
   "metadata": {},
   "outputs": [],
   "source": [
    "import websockets\n",
    "import asyncio\n",
    "import requests\n",
    "\n",
    "async def test_websocket(connection_id):\n",
    "    uri = f\"ws://localhost:8000/chat/ws/{connection_id}\"\n",
    "    async with websockets.connect(uri) as websocket:\n",
    "        await websocket.send(\"Who is Bernie Sanders\")\n",
    "        async for message in websocket:\n",
    "            print(f\"{message}\", end=\"\")\n",
    "\n",
    "# Function to cancel connection\n",
    "def cancel_websocket_connection(connection_id):\n",
    "    url = f\"http://localhost:8000/chat/cancel/{connection_id}\"\n",
    "    response = requests.post(url)\n",
    "    print(response.json())"
   ]
  },
  {
   "cell_type": "code",
   "execution_count": 3,
   "metadata": {},
   "outputs": [
    {
     "data": {
      "text/plain": [
       "<Task pending name='Task-5' coro=<test_websocket() running at /var/folders/jq/7cv336vx66v_c3vj7vwrpt6c0000gn/T/ipykernel_93826/3709614328.py:5>>"
      ]
     },
     "execution_count": 3,
     "metadata": {},
     "output_type": "execute_result"
    }
   ],
   "source": [
    "# Run the WebSocket client in the background\n",
    "connection_id=\"deep-dive\"\n",
    "asyncio.create_task(test_websocket(connection_id))"
   ]
  },
  {
   "cell_type": "code",
   "execution_count": 3,
   "metadata": {},
   "outputs": [
    {
     "name": "stdout",
     "output_type": "stream",
     "text": [
      "{'status': 'SUCCESS', 'message': 'Connection test_connection canceled.'}\n"
     ]
    }
   ],
   "source": [
    "# Test sending a cancel request\n",
    "connection_id=\"test_connection\"\n",
    "cancel_websocket_connection(connection_id)"
   ]
  }
 ],
 "metadata": {
  "kernelspec": {
   "display_name": "deep-dive",
   "language": "python",
   "name": "python3"
  },
  "language_info": {
   "codemirror_mode": {
    "name": "ipython",
    "version": 3
   },
   "file_extension": ".py",
   "mimetype": "text/x-python",
   "name": "python",
   "nbconvert_exporter": "python",
   "pygments_lexer": "ipython3",
   "version": "3.12.9"
  }
 },
 "nbformat": 4,
 "nbformat_minor": 2
}
