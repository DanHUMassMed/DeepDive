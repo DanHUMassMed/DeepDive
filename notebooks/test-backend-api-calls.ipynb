{
 "cells": [
  {
   "cell_type": "code",
   "execution_count": 60,
   "metadata": {},
   "outputs": [],
   "source": [
    "import requests\n",
    "import json\n",
    "\n",
    "def get_api_data(url_to_test):\n",
    "    try:\n",
    "        # Make the HTTP GET request\n",
    "        response = requests.get(url_to_test)\n",
    "        \n",
    "        # Raise an exception if the request was unsuccessful\n",
    "        response.raise_for_status()\n",
    "        \n",
    "        # Parse the response as JSON\n",
    "        data = response.json()\n",
    "        \n",
    "        # Pretty-print the JSON result\n",
    "        print(json.dumps(data, indent=4))\n",
    "    \n",
    "    except requests.exceptions.HTTPError as http_err:\n",
    "        print(f\"HTTP error occurred: {http_err}\")\n",
    "    except Exception as err:\n",
    "        print(f\"Other error occurred: {err}\")\n",
    "\n",
    "\n",
    "def post_api_data(url, post_data):\n",
    "    try:\n",
    "        # Make the HTTP POST request with the provided JSON data\n",
    "        response = requests.post(url, json=post_data)\n",
    "        \n",
    "        # Raise an exception if the request was unsuccessful\n",
    "        response.raise_for_status()\n",
    "        \n",
    "        # Parse and print the response as JSON\n",
    "        data = response.json()\n",
    "        print(json.dumps(data, indent=4))\n",
    "    \n",
    "    except requests.exceptions.HTTPError as http_err:\n",
    "        print(f\"HTTP error occurred: {http_err}\")\n",
    "    except Exception as err:\n",
    "        print(f\"Other error occurred: {err}\")\n",
    "\n",
    "def delete_api_data(url, delete_data):\n",
    "    try:\n",
    "        # Make the HTTP DELETE request with the provided JSON data\n",
    "        response = requests.delete(url, json=delete_data)\n",
    "        \n",
    "        # Raise an exception if the request was unsuccessful\n",
    "        response.raise_for_status()\n",
    "        \n",
    "        # Parse and print the response as JSON\n",
    "        data = response.json()\n",
    "        print(json.dumps(data, indent=4))\n",
    "    \n",
    "    except requests.exceptions.HTTPError as http_err:\n",
    "        print(f\"HTTP error occurred: {http_err}\")\n",
    "    except Exception as err:\n",
    "        print(f\"Other error occurred: {err}\")\n",
    "\n",
    "\n"
   ]
  },
  {
   "cell_type": "code",
   "execution_count": 61,
   "metadata": {},
   "outputs": [
    {
     "name": "stdout",
     "output_type": "stream",
     "text": [
      "[\n",
      "    \"deepseek-r1:1.5b\",\n",
      "    \"deepseek-r1:32b\",\n",
      "    \"llama3.2:1b\",\n",
      "    \"llama3.3:latest\",\n",
      "    \"nomic-embed-text:latest\",\n",
      "    \"qwen2.5:32b\"\n",
      "]\n"
     ]
    }
   ],
   "source": [
    "# Example usage\n",
    "url = \"http://localhost:8000/get/available-models\"\n",
    "get_api_data(url)"
   ]
  },
  {
   "cell_type": "code",
   "execution_count": 62,
   "metadata": {},
   "outputs": [
    {
     "name": "stdout",
     "output_type": "stream",
     "text": [
      "[\n",
      "    {\n",
      "        \"project_id\": \"deep-dive\",\n",
      "        \"chat_id\": \"c4cf83fc-7e12-49cb-9dd0-10cec8b1417c\",\n",
      "        \"chat_start_date\": \"2025-02-25 08:41:58 AM\",\n",
      "        \"chat_title\": \"Chat on 2025-02-25 08:41:58 AM\",\n",
      "        \"chat_llm_name\": \"llama3.2:1b\",\n",
      "        \"active_chat\": true\n",
      "    },\n",
      "    {\n",
      "        \"project_id\": \"deep-dive\",\n",
      "        \"chat_id\": \"4b310c6a-c05f-4c8c-adcd-f1e59e834386\",\n",
      "        \"chat_start_date\": \"2025-02-24 10:31:49 PM\",\n",
      "        \"chat_title\": \"Chat on 2025-02-24 10:31:49 PM\",\n",
      "        \"chat_llm_name\": \"llama3.2:1b\",\n",
      "        \"active_chat\": false\n",
      "    },\n",
      "    {\n",
      "        \"project_id\": \"deep-dive\",\n",
      "        \"chat_id\": \"ebeadbb9-80d2-4a5d-9523-98a0fc8e5ce1\",\n",
      "        \"chat_start_date\": \"2025-02-24 05:47:33 PM\",\n",
      "        \"chat_title\": \"Chat as Dan\",\n",
      "        \"chat_llm_name\": \"llama3.2:1b\",\n",
      "        \"active_chat\": false\n",
      "    }\n",
      "]\n"
     ]
    }
   ],
   "source": [
    "# Example usage\n",
    "url = \"http://localhost:8000/get/chat-history/deep-dive\"\n",
    "get_api_data(url)"
   ]
  },
  {
   "cell_type": "code",
   "execution_count": 49,
   "metadata": {},
   "outputs": [
    {
     "name": "stdout",
     "output_type": "stream",
     "text": [
      "{\n",
      "    \"chat_history_timestamp\": \"2025-02-24 17:00:52.408\"\n",
      "}\n"
     ]
    }
   ],
   "source": [
    "# Example usage\n",
    "url = \"http://localhost:8000/get/chat-history-timestamp/deep-dive\"\n",
    "get_api_data(url)"
   ]
  },
  {
   "cell_type": "code",
   "execution_count": 50,
   "metadata": {},
   "outputs": [
    {
     "name": "stdout",
     "output_type": "stream",
     "text": [
      "{\n",
      "    \"project_id\": \"deep-dive\",\n",
      "    \"chat_id\": \"451245f5-a524-4ab8-9a50-43466011e9ed\",\n",
      "    \"chat_start_date\": \"2025-02-24 05:21:48 PM\",\n",
      "    \"chat_title\": \"Chat on 2025-02-24 05:21:48 PM\",\n",
      "    \"chat_llm_name\": \"llama3.2:1b\",\n",
      "    \"active_chat\": true\n",
      "}\n"
     ]
    }
   ],
   "source": [
    "# Example usage\n",
    "url = \"http://localhost:8000/get/active-chat/deep-dive\"\n",
    "get_api_data(url)"
   ]
  },
  {
   "cell_type": "code",
   "execution_count": 66,
   "metadata": {},
   "outputs": [
    {
     "name": "stdout",
     "output_type": "stream",
     "text": [
      "{\n",
      "    \"project_name\": \"deep-dive\",\n",
      "    \"project_start_date\": \"2025-02-24 10:13:05 AM\",\n",
      "    \"project_llm_name\": \"deepseek-r1:32b\",\n",
      "    \"project_system_prompt\": \"Answer all questions to the best of your ability. \"\n",
      "}\n"
     ]
    }
   ],
   "source": [
    "# Example usage\n",
    "url = \"http://localhost:8000/get/project-state/deep-dive\"\n",
    "get_api_data(url)"
   ]
  },
  {
   "cell_type": "code",
   "execution_count": 65,
   "metadata": {},
   "outputs": [
    {
     "name": "stdout",
     "output_type": "stream",
     "text": [
      "null\n"
     ]
    }
   ],
   "source": [
    "# Example usage\n",
    "url = \"http://localhost:8000/update/project-state\"\n",
    "post_data = {'project_name': 'deep-dive','project_llm_name':'deepseek-r1:32b'}\n",
    "\n",
    "post_api_data(url, post_data)"
   ]
  },
  {
   "cell_type": "code",
   "execution_count": 42,
   "metadata": {},
   "outputs": [
    {
     "name": "stdout",
     "output_type": "stream",
     "text": [
      "[\n",
      "    \"deepseek-r1:1.5b\",\n",
      "    \"deepseek-r1:32b\",\n",
      "    \"llama3.2:1b\",\n",
      "    \"llama3.3:latest\",\n",
      "    \"nomic-embed-text:latest\",\n",
      "    \"qwen2.5:32b\"\n",
      "]\n"
     ]
    }
   ],
   "source": [
    "# Example usage\n",
    "url = \"http://localhost:8000/get/available-models\"\n",
    "get_api_data(url)"
   ]
  },
  {
   "cell_type": "code",
   "execution_count": 59,
   "metadata": {},
   "outputs": [
    {
     "name": "stdout",
     "output_type": "stream",
     "text": [
      "HTTP error occurred: 500 Server Error: Internal Server Error for url: http://localhost:8000/get/chat-items/deep-dive/bd54cdd6-0d05-465d-9eec-1cb6f5afa9a0\n"
     ]
    }
   ],
   "source": [
    "# Example usage\n",
    "project_id=\"deep-dive\"\n",
    "chat_id=\"bd54cdd6-0d05-465d-9eec-1cb6f5afa9a0\"\n",
    "url = f\"http://localhost:8000/get/chat-items/{project_id}/{chat_id}\"\n",
    "get_api_data(url)"
   ]
  },
  {
   "cell_type": "code",
   "execution_count": 37,
   "metadata": {},
   "outputs": [
    {
     "name": "stdout",
     "output_type": "stream",
     "text": [
      "{\n",
      "    \"project_id\": \"deep-dive\",\n",
      "    \"chat_id\": \"1ad8d589-dccc-4b58-b6c5-b8df8880af45\",\n",
      "    \"chat_start_date\": \"2025-02-24 03:46:30 PM\",\n",
      "    \"chat_title\": \"Chat on 2025-02-24 03:46:30 PM\",\n",
      "    \"chat_llm_name\": \"llama3.2:1b\",\n",
      "    \"active_chat\": true\n",
      "}\n"
     ]
    }
   ],
   "source": [
    "# Example usage\n",
    "url = \"http://localhost:8000/create/chat-history-item\"\n",
    "post_data = {'project_id': 'deep-dive'}\n",
    "\n",
    "post_api_data(url, post_data)"
   ]
  },
  {
   "cell_type": "code",
   "execution_count": 46,
   "metadata": {},
   "outputs": [
    {
     "name": "stdout",
     "output_type": "stream",
     "text": [
      "{\n",
      "    \"project_id\": \"deep-dive\",\n",
      "    \"chat_id\": \"1ad8d589-dccc-4b58-b6c5-b8df8880af45\",\n",
      "    \"chat_start_date\": \"2025-02-24 03:46:30 PM\",\n",
      "    \"chat_title\": \"My New title\",\n",
      "    \"chat_llm_name\": \"llama3.2:1b\",\n",
      "    \"active_chat\": true\n",
      "}\n"
     ]
    }
   ],
   "source": [
    "# Example usage\n",
    "url = \"http://localhost:8000/update/chat-history-item-title\"\n",
    "post_data = {'project_id': 'deep-dive',\"chat_id\": \"1ad8d589-dccc-4b58-b6c5-b8df8880af45\",\"chat_title\":\"My New title\"}\n",
    "\n",
    "post_api_data(url, post_data)"
   ]
  },
  {
   "cell_type": "code",
   "execution_count": null,
   "metadata": {},
   "outputs": [],
   "source": [
    "import asyncio\n",
    "import websockets\n",
    "import nest_asyncio\n",
    "\n",
    "# Allow running asyncio within Jupyter notebooks\n",
    "nest_asyncio.apply()\n",
    "\n",
    "async def send_message(uri, message):\n",
    "    try:\n",
    "        # Connect to the WebSocket server\n",
    "        async with websockets.connect(uri) as websocket:\n",
    "            # Send the message\n",
    "            await websocket.send(message)\n",
    "            print(f\"Message sent: {message}\")\n",
    "\n",
    "            # Wait for a response from the server (optional)\n",
    "            response = await websocket.recv()\n",
    "            print(f\"Received from server: {response}\")\n",
    "\n",
    "    except websockets.exceptions.ConnectionClosedError as e:\n",
    "        print(f\"WebSocket connection closed: {e}\")\n",
    "\n",
    "# Define the WebSocket server URL and project ID\n",
    "websocket_url = \"ws://localhost:8000/ws/sendMessage?project_id=DeepDive\"\n",
    "message_to_send = \"Hello from Python WebSocket Client!\"\n",
    "\n",
    "# Run the function\n",
    "await send_message(websocket_url, message_to_send)"
   ]
  },
  {
   "cell_type": "code",
   "execution_count": 32,
   "metadata": {},
   "outputs": [
    {
     "name": "stdout",
     "output_type": "stream",
     "text": [
      "{\n",
      "    \"status\": \"SUCCESS\"\n",
      "}\n"
     ]
    }
   ],
   "source": [
    "# Example usage for DELETE request:\n",
    "url = \"http://localhost:8000/delete/chat-history-item\"\n",
    "delete_data = {\n",
    "    \"project_id\": \"deep-dive\",\n",
    "    \"chat_id\": \"4cadf3f7-1870-477f-b393-444a047b6161\",\n",
    "}\n",
    "\n",
    "delete_api_data(url, delete_data)"
   ]
  },
  {
   "cell_type": "code",
   "execution_count": null,
   "metadata": {},
   "outputs": [],
   "source": []
  }
 ],
 "metadata": {
  "kernelspec": {
   "display_name": "deep-dive",
   "language": "python",
   "name": "python3"
  },
  "language_info": {
   "codemirror_mode": {
    "name": "ipython",
    "version": 3
   },
   "file_extension": ".py",
   "mimetype": "text/x-python",
   "name": "python",
   "nbconvert_exporter": "python",
   "pygments_lexer": "ipython3",
   "version": "3.12.9"
  }
 },
 "nbformat": 4,
 "nbformat_minor": 2
}
