{
 "cells": [
  {
   "cell_type": "code",
   "execution_count": 130,
   "metadata": {},
   "outputs": [],
   "source": [
    "\n",
    "import requests\n",
    "import json\n",
    "\n",
    "def get_api_data(url_to_test):\n",
    "    try:\n",
    "        # Make the HTTP GET request\n",
    "        response = requests.get(url_to_test)\n",
    "        \n",
    "        # Raise an exception if the request was unsuccessful\n",
    "        response.raise_for_status()\n",
    "        \n",
    "        # Parse the response as JSON\n",
    "        data = response.json()\n",
    "        \n",
    "        # Pretty-print the JSON result\n",
    "        print(json.dumps(data, indent=4))\n",
    "    \n",
    "    except requests.exceptions.HTTPError as http_err:\n",
    "        print(f\"HTTP error occurred: {http_err}\")\n",
    "    except Exception as err:\n",
    "        print(f\"Other error occurred: {err}\")\n",
    "\n",
    "\n",
    "def post_api_data(url, post_data):\n",
    "    try:\n",
    "        # Make the HTTP POST request with the provided JSON data\n",
    "        response = requests.post(url, json=post_data)\n",
    "        \n",
    "        # Raise an exception if the request was unsuccessful\n",
    "        response.raise_for_status()\n",
    "        \n",
    "        # Parse and print the response as JSON\n",
    "        data = response.json()\n",
    "        print(json.dumps(data, indent=4))\n",
    "    \n",
    "    except requests.exceptions.HTTPError as http_err:\n",
    "        print(f\"HTTP error occurred: {http_err}\")\n",
    "    except Exception as err:\n",
    "        print(f\"Other error occurred: {err}\")\n",
    "        \n",
    "def put_api_data(url, put_data):\n",
    "    try:\n",
    "        # Make the HTTP PUT request with the provided JSON data\n",
    "        response = requests.put(url, json=put_data)\n",
    "        \n",
    "        # Raise an exception if the request was unsuccessful\n",
    "        response.raise_for_status()\n",
    "        \n",
    "        # Parse and print the response as JSON\n",
    "        data = response.json()\n",
    "        print(json.dumps(data, indent=4))\n",
    "    \n",
    "    except requests.exceptions.HTTPError as http_err:\n",
    "        print(f\"HTTP error occurred: {http_err}\")\n",
    "    except Exception as err:\n",
    "        print(f\"Other error occurred: {err}\")\n",
    "        \n",
    "def delete_api_data(url, delete_data):\n",
    "    try:\n",
    "        # Make the HTTP DELETE request with the provided JSON data\n",
    "        response = requests.delete(url, json=delete_data)\n",
    "        \n",
    "        # Raise an exception if the request was unsuccessful\n",
    "        response.raise_for_status()\n",
    "        \n",
    "        # Parse and print the response as JSON\n",
    "        data = response.json()\n",
    "        print(json.dumps(data, indent=4))\n",
    "    \n",
    "    except requests.exceptions.HTTPError as http_err:\n",
    "        print(f\"HTTP error occurred: {http_err}\")\n",
    "        # If the response contains a JSON body or text, you can print it like this:\n",
    "        if http_err.response is not None:\n",
    "            try:\n",
    "                print(f\"Response content: {http_err.response.json()}\")  # If it's a JSON response\n",
    "            except ValueError:  # If response isn't JSON\n",
    "                print(f\"Response content: {http_err.response.text}\")  # Fall back to plain text\n",
    "\n",
    "    except Exception as err:\n",
    "        print(f\"Other error occurred: {err}\")\n",
    "\n",
    "\n"
   ]
  },
  {
   "cell_type": "code",
   "execution_count": 132,
   "metadata": {},
   "outputs": [],
   "source": [
    "def api_request(method, url, data=None):\n",
    "    try:\n",
    "        # Make the HTTP request based on the method type\n",
    "        if method == \"get\":\n",
    "            response = requests.get(url)\n",
    "        elif method == \"post\":\n",
    "            response = requests.post(url, json=data)\n",
    "        elif method == \"put\":\n",
    "            response = requests.put(url, json=data)\n",
    "        elif method == \"delete\":\n",
    "            response = requests.delete(url, json=data)\n",
    "        else:\n",
    "            raise ValueError(\"Unsupported HTTP method\")\n",
    "\n",
    "        # Raise an exception if the request was unsuccessful\n",
    "        response.raise_for_status()\n",
    "        \n",
    "        # Parse and pretty-print the response as JSON\n",
    "        data = response.json()\n",
    "        print(json.dumps(data, indent=4))\n",
    "    \n",
    "    except requests.exceptions.HTTPError as http_err:\n",
    "        print(f\"HTTP error occurred: {http_err}\")\n",
    "        # If the response contains a JSON body or text, print it like this:\n",
    "        if http_err.response is not None:\n",
    "            try:\n",
    "                print(f\"Response content: {http_err.response.json()}\")  # If it's a JSON response\n",
    "            except ValueError:  # If response isn't JSON\n",
    "                print(f\"Response content: {http_err.response.text}\")  # Fall back to plain text\n",
    "\n",
    "    except Exception as err:\n",
    "        print(f\"Other error occurred: {err}\")\n"
   ]
  },
  {
   "cell_type": "markdown",
   "metadata": {},
   "source": [
    "# Utility Calls"
   ]
  },
  {
   "cell_type": "code",
   "execution_count": 92,
   "metadata": {},
   "outputs": [
    {
     "name": "stdout",
     "output_type": "stream",
     "text": [
      "[\n",
      "    \"deepseek-r1:1.5b\",\n",
      "    \"deepseek-r1:32b\",\n",
      "    \"llama3.2:1b\",\n",
      "    \"llama3.3:latest\",\n",
      "    \"nomic-embed-text:latest\",\n",
      "    \"qwen2.5:32b\"\n",
      "]\n"
     ]
    }
   ],
   "source": [
    "# Get Available Models\n",
    "url = \"http://localhost:8000/get/available-models\"\n",
    "get_api_data(url)"
   ]
  },
  {
   "cell_type": "markdown",
   "metadata": {},
   "source": [
    "# ChatHistory Calls"
   ]
  },
  {
   "cell_type": "code",
   "execution_count": 93,
   "metadata": {},
   "outputs": [
    {
     "name": "stdout",
     "output_type": "stream",
     "text": [
      "[\n",
      "    {\n",
      "        \"project_id\": \"deep-dive\",\n",
      "        \"chat_id\": \"ad4a4754-7dec-491d-85f7-adc16d41ab22\",\n",
      "        \"chat_start_date\": \"2025-02-27 02:34:11 PM\",\n",
      "        \"chat_title\": \"Chat on 2025-02-27 02:34:11 PM\",\n",
      "        \"chat_llm_name\": \"llama3.2:1b\",\n",
      "        \"active_chat\": true\n",
      "    }\n",
      "]\n"
     ]
    }
   ],
   "source": [
    "# Get Chat History\n",
    "url = \"http://localhost:8000/get/chat-history/deep-dive\"\n",
    "get_api_data(url)"
   ]
  },
  {
   "cell_type": "code",
   "execution_count": 94,
   "metadata": {},
   "outputs": [
    {
     "name": "stdout",
     "output_type": "stream",
     "text": [
      "{\n",
      "    \"project_id\": \"deep-dive\",\n",
      "    \"chat_id\": \"ad4a4754-7dec-491d-85f7-adc16d41ab22\",\n",
      "    \"chat_start_date\": \"2025-02-27 02:34:11 PM\",\n",
      "    \"chat_title\": \"Chat on 2025-02-27 02:34:11 PM\",\n",
      "    \"chat_llm_name\": \"llama3.2:1b\",\n",
      "    \"active_chat\": true\n",
      "}\n"
     ]
    }
   ],
   "source": [
    "# Get Active Chat\n",
    "url = \"http://localhost:8000/get/active-chat/deep-dive\"\n",
    "get_api_data(url)"
   ]
  },
  {
   "cell_type": "code",
   "execution_count": 96,
   "metadata": {},
   "outputs": [
    {
     "name": "stdout",
     "output_type": "stream",
     "text": [
      "{\n",
      "    \"chat_history_timestamp\": \"2025-02-27 15:26:17.922\"\n",
      "}\n"
     ]
    }
   ],
   "source": [
    "# Get Chat History Timestamp\n",
    "url = \"http://localhost:8000/get/chat-history-timestamp/deep-dive\"\n",
    "get_api_data(url)"
   ]
  },
  {
   "cell_type": "markdown",
   "metadata": {},
   "source": [
    "# Chat History Item Calls"
   ]
  },
  {
   "cell_type": "code",
   "execution_count": 87,
   "metadata": {},
   "outputs": [
    {
     "name": "stdout",
     "output_type": "stream",
     "text": [
      "{\n",
      "    \"project_id\": \"deep-dive\",\n",
      "    \"chat_id\": \"ad4a4754-7dec-491d-85f7-adc16d41ab22\",\n",
      "    \"chat_start_date\": \"2025-02-27 02:34:11 PM\",\n",
      "    \"chat_title\": \"Chat on 2025-02-27 02:34:11 PM\",\n",
      "    \"chat_llm_name\": \"llama3.2:1b\",\n",
      "    \"active_chat\": true\n",
      "}\n"
     ]
    }
   ],
   "source": [
    "# Example usage\n",
    "url = \"http://localhost:8000/create/chat-history-item\"\n",
    "post_data = {'project_id': 'deep-dive'}\n",
    "\n",
    "post_api_data(url, post_data)"
   ]
  },
  {
   "cell_type": "code",
   "execution_count": null,
   "metadata": {},
   "outputs": [],
   "source": [
    "# Example usage\n",
    "project_id=\"deep-dive\"\n",
    "chat_id=\"bd54cdd6-0d05-465d-9eec-1cb6f5afa9a0\"\n",
    "url = f\"http://localhost:8000/get/chat-items/{project_id}/{chat_id}\"\n",
    "get_api_data(url)"
   ]
  },
  {
   "cell_type": "code",
   "execution_count": null,
   "metadata": {},
   "outputs": [],
   "source": [
    "# Example usage\n",
    "url = \"http://localhost:8000/update/chat-history-item-title\"\n",
    "post_data = {'project_id': 'deep-dive',\"chat_id\": \"1ad8d589-dccc-4b58-b6c5-b8df8880af45\",\"chat_title\":\"My New title\"}\n",
    "\n",
    "post_api_data(url, post_data)"
   ]
  },
  {
   "cell_type": "markdown",
   "metadata": {},
   "source": []
  },
  {
   "cell_type": "markdown",
   "metadata": {},
   "source": [
    "# ProjectState calls"
   ]
  },
  {
   "cell_type": "code",
   "execution_count": 169,
   "metadata": {},
   "outputs": [
    {
     "name": "stdout",
     "output_type": "stream",
     "text": [
      "HTTP error occurred: 500 Server Error: Internal Server Error for url: http://localhost:8000/projects/state\n",
      "Response content: {'detail': {'status': 'FAILED', 'status_code': 500, 'message': 'Project Name [my-new-project] already exists. Project name must be unique.'}}\n"
     ]
    }
   ],
   "source": [
    "# Create a new Project\n",
    "url = \"http://localhost:8000/projects/state\"\n",
    "data = {'project_name': 'my-new-project',\n",
    "             'project_llm_name':'deepseek-r1:32b',\n",
    "             'project_data_dir':'/User/home/amy'}\n",
    "\n",
    "api_request(\"post\", url, data)"
   ]
  },
  {
   "cell_type": "code",
   "execution_count": 170,
   "metadata": {},
   "outputs": [
    {
     "name": "stdout",
     "output_type": "stream",
     "text": [
      "{\n",
      "    \"project_name\": \"my-new-project\",\n",
      "    \"project_start_date\": \"2025-02-27 08:21:53 PM\",\n",
      "    \"project_llm_name\": \"deepseek-r1:32b\",\n",
      "    \"project_system_prompt\": \"Answer all questions to the best of your ability. Answer concisely but correctly. If you do not know the answer, just say 'I don\\u2019t know.'\",\n",
      "    \"project_data_dir\": \"/User/home/amy\",\n",
      "    \"project_data_toggle\": false\n",
      "}\n"
     ]
    }
   ],
   "source": [
    "# Get a project \n",
    "url = \"http://localhost:8000/projects/my-new-project/state\"\n",
    "data = {}\n",
    "\n",
    "api_request(\"get\", url, data)"
   ]
  },
  {
   "cell_type": "code",
   "execution_count": 171,
   "metadata": {},
   "outputs": [
    {
     "name": "stdout",
     "output_type": "stream",
     "text": [
      "{\n",
      "    \"project_name\": \"my-new-project\",\n",
      "    \"project_llm_name\": \"deepseek-r1:610b\",\n",
      "    \"project_system_prompt\": null,\n",
      "    \"project_data_dir\": \"/User/home/dan\",\n",
      "    \"project_data_toggle\": false\n",
      "}\n"
     ]
    }
   ],
   "source": [
    "# Update a project\n",
    "url = \"http://localhost:8000/projects/my-new-project/state\"\n",
    "data = {'project_name': 'my-new-project',\n",
    "             'project_llm_name':'deepseek-r1:610b',\n",
    "             'project_data_dir':'/User/home/dan'}\n",
    "\n",
    "api_request(\"put\", url, data)"
   ]
  },
  {
   "cell_type": "code",
   "execution_count": 172,
   "metadata": {},
   "outputs": [
    {
     "name": "stdout",
     "output_type": "stream",
     "text": [
      "{\n",
      "    \"status\": \"SUCCESS\",\n",
      "    \"status_code\": 200\n",
      "}\n"
     ]
    }
   ],
   "source": [
    "# Delete a project\n",
    "\n",
    "url = \"http://localhost:8000/projects/my-new-project/state\"\n",
    "data = {}\n",
    "\n",
    "api_request(\"delete\", url, data)"
   ]
  },
  {
   "cell_type": "code",
   "execution_count": null,
   "metadata": {},
   "outputs": [],
   "source": [
    "\n",
    "api_request(method, url, data=None):"
   ]
  },
  {
   "cell_type": "markdown",
   "metadata": {},
   "source": [
    "# Attic Items"
   ]
  },
  {
   "cell_type": "code",
   "execution_count": null,
   "metadata": {},
   "outputs": [],
   "source": [
    "import asyncio\n",
    "import websockets\n",
    "import nest_asyncio\n",
    "\n",
    "# Allow running asyncio within Jupyter notebooks\n",
    "nest_asyncio.apply()\n",
    "\n",
    "async def send_message(uri, message):\n",
    "    try:\n",
    "        # Connect to the WebSocket server\n",
    "        async with websockets.connect(uri) as websocket:\n",
    "            # Send the message\n",
    "            await websocket.send(message)\n",
    "            print(f\"Message sent: {message}\")\n",
    "\n",
    "            # Wait for a response from the server (optional)\n",
    "            response = await websocket.recv()\n",
    "            print(f\"Received from server: {response}\")\n",
    "\n",
    "    except websockets.exceptions.ConnectionClosedError as e:\n",
    "        print(f\"WebSocket connection closed: {e}\")\n",
    "\n",
    "# Define the WebSocket server URL and project ID\n",
    "websocket_url = \"ws://localhost:8000/ws/sendMessage?project_id=DeepDive\"\n",
    "message_to_send = \"Hello from Python WebSocket Client!\"\n",
    "\n",
    "# Run the function\n",
    "await send_message(websocket_url, message_to_send)"
   ]
  },
  {
   "cell_type": "code",
   "execution_count": null,
   "metadata": {},
   "outputs": [],
   "source": [
    "# Example usage for DELETE request:\n",
    "url = \"http://localhost:8000/delete/chat-history-item\"\n",
    "delete_data = {\n",
    "    \"project_id\": \"deep-dive\",\n",
    "    \"chat_id\": \"4cadf3f7-1870-477f-b393-444a047b6161\",\n",
    "}\n",
    "\n",
    "delete_api_data(url, delete_data)"
   ]
  },
  {
   "cell_type": "code",
   "execution_count": null,
   "metadata": {},
   "outputs": [],
   "source": []
  }
 ],
 "metadata": {
  "kernelspec": {
   "display_name": "deep-dive",
   "language": "python",
   "name": "python3"
  },
  "language_info": {
   "codemirror_mode": {
    "name": "ipython",
    "version": 3
   },
   "file_extension": ".py",
   "mimetype": "text/x-python",
   "name": "python",
   "nbconvert_exporter": "python",
   "pygments_lexer": "ipython3",
   "version": "3.12.9"
  }
 },
 "nbformat": 4,
 "nbformat_minor": 2
}
