{
 "cells": [
  {
   "cell_type": "code",
   "execution_count": 3,
   "metadata": {},
   "outputs": [],
   "source": [
    "# System level imports\n",
    "import sys\n",
    "import os\n",
    "\n",
    "# ##### SET SYS PATH TO WHERE THE CODE IS. #####\n",
    "# Note: Putting our code first in the sys path will make sure it gets picked up first\n",
    "deep_dive_base_dir='/Users/dan/Code/LLM/DeepDive/backend'\n",
    "sys.path.insert(0, deep_dive_base_dir)"
   ]
  },
  {
   "cell_type": "markdown",
   "metadata": {},
   "source": [
    "\n",
    "# Utility Calls"
   ]
  },
  {
   "cell_type": "code",
   "execution_count": 2,
   "metadata": {},
   "outputs": [
    {
     "name": "stdout",
     "output_type": "stream",
     "text": [
      "2025-03-03 16:47:34 app DEBUG: get_available_ollama_models start\n",
      "2025-03-03 16:47:34 app DEBUG: get_available_ollama_models after get\n"
     ]
    },
    {
     "data": {
      "text/plain": [
       "['deepseek-r1:1.5b',\n",
       " 'deepseek-r1:32b',\n",
       " 'llama3.2:1b',\n",
       " 'llama3.3:latest',\n",
       " 'nomic-embed-text:latest',\n",
       " 'qwen2.5:32b']"
      ]
     },
     "execution_count": 2,
     "metadata": {},
     "output_type": "execute_result"
    }
   ],
   "source": [
    "from app.utils.ollama_utilities import get_available_ollama_models\n",
    "get_available_ollama_models()\n"
   ]
  },
  {
   "cell_type": "markdown",
   "metadata": {},
   "source": [
    "# Chat History Item Calls"
   ]
  },
  {
   "cell_type": "code",
   "execution_count": 9,
   "metadata": {},
   "outputs": [
    {
     "name": "stdout",
     "output_type": "stream",
     "text": [
      "2025-03-03 16:55:12 app INFO: DEEP_DIVE_WORKSPACE not set. Created default workspace at: /Users/dan/.deep-dive/workspace\n"
     ]
    }
   ],
   "source": [
    "from app.managers.chat_history_manager import ChatHistoryManager, ChatHistoryItem\n",
    "from app.managers.project_state_manager import ProjectStateManager, ProjectStateItem\n",
    "\n",
    "chat_history_manager = ChatHistoryManager.singleton()\n"
   ]
  },
  {
   "cell_type": "code",
   "execution_count": 10,
   "metadata": {},
   "outputs": [
    {
     "name": "stdout",
     "output_type": "stream",
     "text": [
      "2025-03-03 16:56:31 app DEBUG: IN get_chat_history\n"
     ]
    },
    {
     "data": {
      "text/plain": [
       "{'project_id': 'deep-dive',\n",
       " 'chat_id': '59cc5586-247a-48e3-b817-0e3ce5049295',\n",
       " 'chat_start_date': '2025-03-02 10:12:26 PM',\n",
       " 'chat_title': 'Chat on 2025-03-02 10:12:26 PM',\n",
       " 'chat_llm_name': 'deepseek-r1:32b',\n",
       " 'active_chat': True}"
      ]
     },
     "execution_count": 10,
     "metadata": {},
     "output_type": "execute_result"
    }
   ],
   "source": [
    "chat_history_manager.get_active_chat('deep-dive')"
   ]
  },
  {
   "cell_type": "code",
   "execution_count": 11,
   "metadata": {},
   "outputs": [
    {
     "name": "stdout",
     "output_type": "stream",
     "text": [
      "2025-03-03 17:04:53 app INFO: DEEP_DIVE_WORKSPACE not set. Created default workspace at: /Users/dan/.deep-dive/workspace\n"
     ]
    },
    {
     "data": {
      "text/plain": [
       "0"
      ]
     },
     "execution_count": 11,
     "metadata": {},
     "output_type": "execute_result"
    }
   ],
   "source": [
    "from app.managers.chat_manager import ChatManager\n",
    "chat_manager = ChatManager()\n",
    "chat_manager.get_chat_interactions_count('59cc5586-247a-48e3-b817-0e3ce5049295')"
   ]
  },
  {
   "cell_type": "markdown",
   "metadata": {},
   "source": [
    "# ProjectState Calls"
   ]
  },
  {
   "cell_type": "markdown",
   "metadata": {},
   "source": [
    "# Chat Calls"
   ]
  },
  {
   "cell_type": "markdown",
   "metadata": {},
   "source": [
    "# Chat Websocket"
   ]
  },
  {
   "cell_type": "markdown",
   "metadata": {},
   "source": []
  }
 ],
 "metadata": {
  "kernelspec": {
   "display_name": "deep-dive",
   "language": "python",
   "name": "python3"
  },
  "language_info": {
   "codemirror_mode": {
    "name": "ipython",
    "version": 3
   },
   "file_extension": ".py",
   "mimetype": "text/x-python",
   "name": "python",
   "nbconvert_exporter": "python",
   "pygments_lexer": "ipython3",
   "version": "3.12.9"
  }
 },
 "nbformat": 4,
 "nbformat_minor": 2
}
