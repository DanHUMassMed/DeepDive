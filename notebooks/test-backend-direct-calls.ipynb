{
 "cells": [
  {
   "cell_type": "code",
   "execution_count": null,
   "metadata": {},
   "outputs": [],
   "source": [
    "\n",
    "# System level imports\n",
    "import sys\n",
    "import os\n",
    "\n",
    "# ##### SET SYS PATH TO WHERE THE CODE IS. #####\n",
    "# Note: Putting our code first in the sys path will make sure it gets picked up first\n",
    "deep_dive_base_dir='/Users/dan/Code/LLM/DeepDive/backend'\n",
    "sys.path.insert(0, deep_dive_base_dir)\n",
    "\n",
    "os.environ[\"DEEP_DIVE_WORKSPACE\"] = \"/Users/dan/Code/LLM/DeepDive/workspace/notebooks\"\n",
    "#os.environ[\"DEEP_DIVE_WORKSPACE\"] = \"/Users/dan/Code/LLM/DeepDive/workspace/deep-dive\""
   ]
  },
  {
   "cell_type": "markdown",
   "metadata": {},
   "source": [
    "\n",
    "# Utility Calls"
   ]
  },
  {
   "cell_type": "code",
   "execution_count": null,
   "metadata": {},
   "outputs": [],
   "source": [
    "from app.utils.ollama_utilities import get_available_ollama_models\n",
    "get_available_ollama_models()\n"
   ]
  },
  {
   "cell_type": "markdown",
   "metadata": {},
   "source": [
    "# ProjectState Calls"
   ]
  },
  {
   "cell_type": "code",
   "execution_count": null,
   "metadata": {},
   "outputs": [],
   "source": [
    "from app.managers.project_state_manager import ProjectStateManager, ProjectStateItem\n",
    "project_state_manager = ProjectStateManager.singleton()"
   ]
  },
  {
   "cell_type": "raw",
   "metadata": {},
   "source": [
    "class ProjectStateItem:\n",
    "    project_id: Optional[str] = None\n",
    "    project_name: Optional[str] = None\n",
    "    project_llm_name: Optional[str] = None\n",
    "    project_system_prompt: Optional[str] = None\n",
    "    project_data_dir: Optional[str] = None\n",
    "    project_data_toggle: Optional[bool] = False\n",
    "    "
   ]
  },
  {
   "cell_type": "code",
   "execution_count": null,
   "metadata": {},
   "outputs": [],
   "source": [
    "project_state_item = ProjectStateItem(project_name=\"test-project\",project_llm_name=\"my_llm\")\n",
    "project_state_manager.create_project_state(project_state_item)\n",
    "    "
   ]
  },
  {
   "cell_type": "code",
   "execution_count": null,
   "metadata": {},
   "outputs": [],
   "source": [
    "project_state_manager.get_project_state(project_id=\"test-project\")"
   ]
  },
  {
   "cell_type": "code",
   "execution_count": null,
   "metadata": {},
   "outputs": [],
   "source": [
    "project_state_item = ProjectStateItem(project_name=\"test-project\",project_llm_name=\"my_llm2\")\n",
    "project_state_manager.update_project_state(project_state_item)"
   ]
  },
  {
   "cell_type": "code",
   "execution_count": null,
   "metadata": {},
   "outputs": [],
   "source": [
    "project_state_manager.delete_project_state(project_id=\"test-project\")\n"
   ]
  },
  {
   "cell_type": "markdown",
   "metadata": {},
   "source": [
    "# Chat History Item Calls"
   ]
  },
  {
   "cell_type": "raw",
   "metadata": {
    "vscode": {
     "languageId": "raw"
    }
   },
   "source": [
    "@dataclass\n",
    "class ChatHistoryItem:\n",
    "    project_id: str\n",
    "    chat_id: Optional[str] = None\n",
    "    chat_start_date: Optional[str] = None\n",
    "    chat_title: Optional[str] = None\n",
    "    chat_llm_name: Optional[str] = None\n",
    "    active_chat: Optional[bool] = None\n",
    "      "
   ]
  },
  {
   "cell_type": "code",
   "execution_count": 2,
   "metadata": {},
   "outputs": [
    {
     "name": "stdout",
     "output_type": "stream",
     "text": [
      "2025-03-04 21:56:29 app INFO: Using provided workspace at: /Users/dan/Code/LLM/DeepDive/workspace/deep-dive\n"
     ]
    }
   ],
   "source": [
    "from app.managers.chat_history_manager import ChatHistoryManager, ChatHistoryItem\n",
    "from app.managers.project_state_manager import ProjectStateManager, ProjectStateItem\n",
    "\n",
    "chat_history_manager = ChatHistoryManager.singleton()\n"
   ]
  },
  {
   "cell_type": "code",
   "execution_count": 9,
   "metadata": {},
   "outputs": [
    {
     "name": "stdout",
     "output_type": "stream",
     "text": [
      "2025-03-04 22:01:38 app DEBUG: IN get_chat_history\n"
     ]
    },
    {
     "data": {
      "text/plain": [
       "{'project_id': 'deep-dive',\n",
       " 'chat_id': '06bea2f8-ad19-43ce-aa0b-0f0a94509473',\n",
       " 'chat_start_date': '2025-03-04 09:35:26 PM',\n",
       " 'chat_title': 'Chat on 2025-03-04 09:35:26 PM',\n",
       " 'chat_llm_name': 'llama3.2:1b',\n",
       " 'active_chat': True}"
      ]
     },
     "execution_count": 9,
     "metadata": {},
     "output_type": "execute_result"
    }
   ],
   "source": [
    "chat_history_manager.get_active_chat(project_id=\"deep-dive\")"
   ]
  },
  {
   "cell_type": "code",
   "execution_count": null,
   "metadata": {},
   "outputs": [],
   "source": [
    "chat_history_item_in = ChatHistoryItem(project_id='test-project')\n",
    "chat_history_item = chat_history_manager.create_chat_history_item(chat_history_item_in)\n",
    "\n",
    "print(f\"{chat_history_item=}\")"
   ]
  },
  {
   "cell_type": "code",
   "execution_count": null,
   "metadata": {},
   "outputs": [],
   "source": [
    "\n",
    "chat_history_item_in = ChatHistoryItem(project_id='test-project')\n",
    "before_timestamp_ch = chat_history_manager.get_chat_history_timestamp(project_id=\"test-project\")\n",
    "chat_history_timestamp = chat_history_manager._update_chat_history_timestamp(project_id=\"test-project\")\n",
    "after_timestamp_ch = chat_history_manager.get_chat_history_timestamp(project_id=\"test-project\")\n",
    "\n",
    "print(f\"{before_timestamp_ch}\")\n",
    "print(f\"{chat_history_timestamp}\")\n",
    "print(f\"{after_timestamp_ch}\")\n"
   ]
  },
  {
   "cell_type": "code",
   "execution_count": 10,
   "metadata": {},
   "outputs": [
    {
     "name": "stdout",
     "output_type": "stream",
     "text": [
      "2025-03-04 22:02:14 app INFO: Using provided workspace at: /Users/dan/Code/LLM/DeepDive/workspace/deep-dive\n"
     ]
    },
    {
     "data": {
      "text/plain": [
       "0"
      ]
     },
     "execution_count": 10,
     "metadata": {},
     "output_type": "execute_result"
    }
   ],
   "source": [
    "from app.managers.chat_manager import ChatManager\n",
    "chat_manager = ChatManager()\n",
    "chat_manager.get_chat_interactions_count('06bea2f8-ad19-43ce-aa0b-0f0a94509473')"
   ]
  },
  {
   "cell_type": "code",
   "execution_count": null,
   "metadata": {},
   "outputs": [],
   "source": []
  },
  {
   "cell_type": "markdown",
   "metadata": {},
   "source": [
    "# Chat Calls"
   ]
  },
  {
   "cell_type": "code",
   "execution_count": 12,
   "metadata": {},
   "outputs": [
    {
     "name": "stdout",
     "output_type": "stream",
     "text": [
      "2025-03-04 22:05:17 app INFO: Using provided workspace at: /Users/dan/Code/LLM/DeepDive/workspace/deep-dive\n"
     ]
    },
    {
     "data": {
      "text/plain": [
       "0"
      ]
     },
     "execution_count": 12,
     "metadata": {},
     "output_type": "execute_result"
    }
   ],
   "source": [
    "from app.managers.chat_manager import ChatManager\n",
    "\n",
    "chat_manager = ChatManager()\n",
    "\n",
    "\n",
    "chat_manager.get_chat_interactions_count(chat_id='06bea2f8-ad19-43ce-aa0b-0f0a94509473')"
   ]
  },
  {
   "cell_type": "markdown",
   "metadata": {},
   "source": [
    "# Chat Websocket"
   ]
  },
  {
   "cell_type": "markdown",
   "metadata": {},
   "source": []
  }
 ],
 "metadata": {
  "kernelspec": {
   "display_name": "deep-dive",
   "language": "python",
   "name": "python3"
  },
  "language_info": {
   "codemirror_mode": {
    "name": "ipython",
    "version": 3
   },
   "file_extension": ".py",
   "mimetype": "text/x-python",
   "name": "python",
   "nbconvert_exporter": "python",
   "pygments_lexer": "ipython3",
   "version": "3.12.9"
  }
 },
 "nbformat": 4,
 "nbformat_minor": 2
}
